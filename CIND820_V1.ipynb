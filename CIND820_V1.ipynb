{
 "metadata": {
  "language_info": {
   "codemirror_mode": {
    "name": "ipython",
    "version": 3
   },
   "file_extension": ".py",
   "mimetype": "text/x-python",
   "name": "python",
   "nbconvert_exporter": "python",
   "pygments_lexer": "ipython3",
   "version": "3.8.3-final"
  },
  "orig_nbformat": 2,
  "kernelspec": {
   "name": "python3",
   "display_name": "Python 3",
   "language": "python"
  }
 },
 "nbformat": 4,
 "nbformat_minor": 2,
 "cells": [
  {
   "cell_type": "code",
   "execution_count": 1,
   "metadata": {},
   "outputs": [
    {
     "output_type": "stream",
     "name": "stdout",
     "text": [
      "Requirement already satisfied: numpy in c:\\users\\hassa\\anaconda3\\lib\\site-packages (1.18.5)Note: you may need to restart the kernel to use updated packages.\n\n"
     ]
    }
   ],
   "source": [
    "pip install numpy"
   ]
  },
  {
   "cell_type": "code",
   "execution_count": 2,
   "metadata": {},
   "outputs": [
    {
     "output_type": "stream",
     "name": "stdout",
     "text": [
      "Requirement already satisfied: pandas in c:\\users\\hassa\\anaconda3\\lib\\site-packages (1.0.5)\nRequirement already satisfied: numpy>=1.13.3 in c:\\users\\hassa\\anaconda3\\lib\\site-packages (from pandas) (1.18.5)\nRequirement already satisfied: pytz>=2017.2 in c:\\users\\hassa\\anaconda3\\lib\\site-packages (from pandas) (2020.1)\nRequirement already satisfied: python-dateutil>=2.6.1 in c:\\users\\hassa\\anaconda3\\lib\\site-packages (from pandas) (2.8.1)\nRequirement already satisfied: six>=1.5 in c:\\users\\hassa\\anaconda3\\lib\\site-packages (from python-dateutil>=2.6.1->pandas) (1.15.0)\nNote: you may need to restart the kernel to use updated packages.\n"
     ]
    }
   ],
   "source": [
    "pip install pandas"
   ]
  },
  {
   "cell_type": "code",
   "execution_count": 3,
   "metadata": {},
   "outputs": [
    {
     "output_type": "stream",
     "name": "stdout",
     "text": [
      "Collecting sklearn\n  Downloading sklearn-0.0.tar.gz (1.1 kB)\nRequirement already satisfied: scikit-learn in c:\\users\\hassa\\anaconda3\\lib\\site-packages (from sklearn) (0.23.1)\nRequirement already satisfied: threadpoolctl>=2.0.0 in c:\\users\\hassa\\anaconda3\\lib\\site-packages (from scikit-learn->sklearn) (2.1.0)\nRequirement already satisfied: joblib>=0.11 in c:\\users\\hassa\\anaconda3\\lib\\site-packages (from scikit-learn->sklearn) (0.16.0)\nRequirement already satisfied: scipy>=0.19.1 in c:\\users\\hassa\\anaconda3\\lib\\site-packages (from scikit-learn->sklearn) (1.5.0)\nRequirement already satisfied: numpy>=1.13.3 in c:\\users\\hassa\\anaconda3\\lib\\site-packages (from scikit-learn->sklearn) (1.18.5)\nBuilding wheels for collected packages: sklearn\n  Building wheel for sklearn (setup.py): started\n  Building wheel for sklearn (setup.py): finished with status 'done'\n  Created wheel for sklearn: filename=sklearn-0.0-py2.py3-none-any.whl size=1320 sha256=416645f6b8d4d6d3e3cd1a2f2ce8076cd88d8b86766621a78f199148d6826132\n  Stored in directory: c:\\users\\hassa\\appdata\\local\\pip\\cache\\wheels\\22\\0b\\40\\fd3f795caaa1fb4c6cb738bc1f56100be1e57da95849bfc897\nSuccessfully built sklearn\nInstalling collected packages: sklearn\nSuccessfully installed sklearn-0.0\nNote: you may need to restart the kernel to use updated packages.\n"
     ]
    }
   ],
   "source": [
    "pip install sklearn"
   ]
  },
  {
   "cell_type": "code",
   "execution_count": 69,
   "metadata": {},
   "outputs": [],
   "source": [
    "import numpy as np\n",
    "import pandas as pd \n",
    "from sklearn.impute import SimpleImputer\n",
    "from sklearn.preprocessing import LabelEncoder,OneHotEncoder\n",
    "from sklearn.model_selection import train_test_split\n",
    "from sklearn.preprocessing import StandardScaler\n",
    "# Visualizations\n",
    "import matplotlib.pyplot as plt\n",
    "from matplotlib.colors import ListedColormap\n",
    "import seaborn as sns\n",
    "import matplotlib.colors as colors\n",
    "%matplotlib inline\n",
    "\n",
    "# Datetime\n",
    "from datetime import datetime\n",
    "\n",
    "## Warnings\n",
    "import warnings\n",
    "from scipy import stats\n",
    "warnings.filterwarnings('ignore')\n",
    "\n",
    "# Large dataset\n",
    "import dask.bag as db"
   ]
  },
  {
   "cell_type": "code",
   "execution_count": 103,
   "metadata": {},
   "outputs": [],
   "source": [
    "dataset = pd.read_csv('C:/Users/Hassa/OneDrive/Documents/CIND820/amazonMusicReviw/reviewscombined.CSV', sep = \",\")"
   ]
  },
  {
   "cell_type": "code",
   "execution_count": 104,
   "metadata": {},
   "outputs": [
    {
     "output_type": "execute_result",
     "data": {
      "text/plain": [
       "       reviewerID        asin  \\\n",
       "0  A2IBPI20UZIR0U  1384719342   \n",
       "1  A14VAT5EAX3D9S  1384719342   \n",
       "2  A195EZSQDW3E21  1384719342   \n",
       "3  A2C00NNG1ZQQG2  1384719342   \n",
       "4   A94QU4C90B1AX  1384719342   \n",
       "\n",
       "                                       reviewerName   helpful  \\\n",
       "0  cassandra tu \"Yeah, well, that's just like, u...    [0, 0]   \n",
       "1                                              Jake  [13, 14]   \n",
       "2                     Rick Bennette \"Rick Bennette\"    [1, 1]   \n",
       "3                         RustyBill \"Sunday Rocker\"    [0, 0]   \n",
       "4                                     SEAN MASLANKA    [0, 0]   \n",
       "\n",
       "                                          reviewText  overall  \\\n",
       "0  Not much to write about here, but it does exac...        5   \n",
       "1  The product does exactly as it should and is q...        5   \n",
       "2  The primary job of this device is to block the...        5   \n",
       "3  Nice windscreen protects my MXL mic and preven...        5   \n",
       "4  This pop filter is great. It looks and perform...        5   \n",
       "\n",
       "                                 summary  unixReviewTime   reviewTime  \\\n",
       "0                                   good      1393545600  02 28, 2014   \n",
       "1                                   Jake      1363392000  03 16, 2013   \n",
       "2                   It Does The Job Well      1377648000  08 28, 2013   \n",
       "3          GOOD WINDSCREEN FOR THE MONEY      1392336000  02 14, 2014   \n",
       "4  No more pops when I record my vocals.      1392940800  02 21, 2014   \n",
       "\n",
       "                                               title  price  \\\n",
       "0  niceEshop Studio Microphone Mic Wind Screen Po...   7.09   \n",
       "1  niceEshop Studio Microphone Mic Wind Screen Po...   7.09   \n",
       "2  niceEshop Studio Microphone Mic Wind Screen Po...   7.09   \n",
       "3  niceEshop Studio Microphone Mic Wind Screen Po...   7.09   \n",
       "4  niceEshop Studio Microphone Mic Wind Screen Po...   7.09   \n",
       "\n",
       "                                               imUrl  \\\n",
       "0  http://ecx.images-amazon.com/images/I/510D2cVp...   \n",
       "1  http://ecx.images-amazon.com/images/I/510D2cVp...   \n",
       "2  http://ecx.images-amazon.com/images/I/510D2cVp...   \n",
       "3  http://ecx.images-amazon.com/images/I/510D2cVp...   \n",
       "4  http://ecx.images-amazon.com/images/I/510D2cVp...   \n",
       "\n",
       "                       salesRank  \\\n",
       "0  {'Musical Instruments': 2880}   \n",
       "1  {'Musical Instruments': 2880}   \n",
       "2  {'Musical Instruments': 2880}   \n",
       "3  {'Musical Instruments': 2880}   \n",
       "4  {'Musical Instruments': 2880}   \n",
       "\n",
       "                                          categories  \\\n",
       "0  [['Musical Instruments', 'Microphones & Access...   \n",
       "1  [['Musical Instruments', 'Microphones & Access...   \n",
       "2  [['Musical Instruments', 'Microphones & Access...   \n",
       "3  [['Musical Instruments', 'Microphones & Access...   \n",
       "4  [['Musical Instruments', 'Microphones & Access...   \n",
       "\n",
       "                                             related      brand  \\\n",
       "0  {'also_bought': ['B009D015TI', 'B004QJREXM', '...  niceEshop   \n",
       "1  {'also_bought': ['B009D015TI', 'B004QJREXM', '...  niceEshop   \n",
       "2  {'also_bought': ['B009D015TI', 'B004QJREXM', '...  niceEshop   \n",
       "3  {'also_bought': ['B009D015TI', 'B004QJREXM', '...  niceEshop   \n",
       "4  {'also_bought': ['B009D015TI', 'B004QJREXM', '...  niceEshop   \n",
       "\n",
       "                                         description  \n",
       "0  New generic Studio Microphone Mic Wind Screen ...  \n",
       "1  New generic Studio Microphone Mic Wind Screen ...  \n",
       "2  New generic Studio Microphone Mic Wind Screen ...  \n",
       "3  New generic Studio Microphone Mic Wind Screen ...  \n",
       "4  New generic Studio Microphone Mic Wind Screen ...  "
      ],
      "text/html": "<div>\n<style scoped>\n    .dataframe tbody tr th:only-of-type {\n        vertical-align: middle;\n    }\n\n    .dataframe tbody tr th {\n        vertical-align: top;\n    }\n\n    .dataframe thead th {\n        text-align: right;\n    }\n</style>\n<table border=\"1\" class=\"dataframe\">\n  <thead>\n    <tr style=\"text-align: right;\">\n      <th></th>\n      <th>reviewerID</th>\n      <th>asin</th>\n      <th>reviewerName</th>\n      <th>helpful</th>\n      <th>reviewText</th>\n      <th>overall</th>\n      <th>summary</th>\n      <th>unixReviewTime</th>\n      <th>reviewTime</th>\n      <th>title</th>\n      <th>price</th>\n      <th>imUrl</th>\n      <th>salesRank</th>\n      <th>categories</th>\n      <th>related</th>\n      <th>brand</th>\n      <th>description</th>\n    </tr>\n  </thead>\n  <tbody>\n    <tr>\n      <th>0</th>\n      <td>A2IBPI20UZIR0U</td>\n      <td>1384719342</td>\n      <td>cassandra tu \"Yeah, well, that's just like, u...</td>\n      <td>[0, 0]</td>\n      <td>Not much to write about here, but it does exac...</td>\n      <td>5</td>\n      <td>good</td>\n      <td>1393545600</td>\n      <td>02 28, 2014</td>\n      <td>niceEshop Studio Microphone Mic Wind Screen Po...</td>\n      <td>7.09</td>\n      <td>http://ecx.images-amazon.com/images/I/510D2cVp...</td>\n      <td>{'Musical Instruments': 2880}</td>\n      <td>[['Musical Instruments', 'Microphones &amp; Access...</td>\n      <td>{'also_bought': ['B009D015TI', 'B004QJREXM', '...</td>\n      <td>niceEshop</td>\n      <td>New generic Studio Microphone Mic Wind Screen ...</td>\n    </tr>\n    <tr>\n      <th>1</th>\n      <td>A14VAT5EAX3D9S</td>\n      <td>1384719342</td>\n      <td>Jake</td>\n      <td>[13, 14]</td>\n      <td>The product does exactly as it should and is q...</td>\n      <td>5</td>\n      <td>Jake</td>\n      <td>1363392000</td>\n      <td>03 16, 2013</td>\n      <td>niceEshop Studio Microphone Mic Wind Screen Po...</td>\n      <td>7.09</td>\n      <td>http://ecx.images-amazon.com/images/I/510D2cVp...</td>\n      <td>{'Musical Instruments': 2880}</td>\n      <td>[['Musical Instruments', 'Microphones &amp; Access...</td>\n      <td>{'also_bought': ['B009D015TI', 'B004QJREXM', '...</td>\n      <td>niceEshop</td>\n      <td>New generic Studio Microphone Mic Wind Screen ...</td>\n    </tr>\n    <tr>\n      <th>2</th>\n      <td>A195EZSQDW3E21</td>\n      <td>1384719342</td>\n      <td>Rick Bennette \"Rick Bennette\"</td>\n      <td>[1, 1]</td>\n      <td>The primary job of this device is to block the...</td>\n      <td>5</td>\n      <td>It Does The Job Well</td>\n      <td>1377648000</td>\n      <td>08 28, 2013</td>\n      <td>niceEshop Studio Microphone Mic Wind Screen Po...</td>\n      <td>7.09</td>\n      <td>http://ecx.images-amazon.com/images/I/510D2cVp...</td>\n      <td>{'Musical Instruments': 2880}</td>\n      <td>[['Musical Instruments', 'Microphones &amp; Access...</td>\n      <td>{'also_bought': ['B009D015TI', 'B004QJREXM', '...</td>\n      <td>niceEshop</td>\n      <td>New generic Studio Microphone Mic Wind Screen ...</td>\n    </tr>\n    <tr>\n      <th>3</th>\n      <td>A2C00NNG1ZQQG2</td>\n      <td>1384719342</td>\n      <td>RustyBill \"Sunday Rocker\"</td>\n      <td>[0, 0]</td>\n      <td>Nice windscreen protects my MXL mic and preven...</td>\n      <td>5</td>\n      <td>GOOD WINDSCREEN FOR THE MONEY</td>\n      <td>1392336000</td>\n      <td>02 14, 2014</td>\n      <td>niceEshop Studio Microphone Mic Wind Screen Po...</td>\n      <td>7.09</td>\n      <td>http://ecx.images-amazon.com/images/I/510D2cVp...</td>\n      <td>{'Musical Instruments': 2880}</td>\n      <td>[['Musical Instruments', 'Microphones &amp; Access...</td>\n      <td>{'also_bought': ['B009D015TI', 'B004QJREXM', '...</td>\n      <td>niceEshop</td>\n      <td>New generic Studio Microphone Mic Wind Screen ...</td>\n    </tr>\n    <tr>\n      <th>4</th>\n      <td>A94QU4C90B1AX</td>\n      <td>1384719342</td>\n      <td>SEAN MASLANKA</td>\n      <td>[0, 0]</td>\n      <td>This pop filter is great. It looks and perform...</td>\n      <td>5</td>\n      <td>No more pops when I record my vocals.</td>\n      <td>1392940800</td>\n      <td>02 21, 2014</td>\n      <td>niceEshop Studio Microphone Mic Wind Screen Po...</td>\n      <td>7.09</td>\n      <td>http://ecx.images-amazon.com/images/I/510D2cVp...</td>\n      <td>{'Musical Instruments': 2880}</td>\n      <td>[['Musical Instruments', 'Microphones &amp; Access...</td>\n      <td>{'also_bought': ['B009D015TI', 'B004QJREXM', '...</td>\n      <td>niceEshop</td>\n      <td>New generic Studio Microphone Mic Wind Screen ...</td>\n    </tr>\n  </tbody>\n</table>\n</div>"
     },
     "metadata": {},
     "execution_count": 104
    }
   ],
   "source": [
    "dataset.head()"
   ]
  },
  {
   "cell_type": "code",
   "execution_count": 105,
   "metadata": {},
   "outputs": [
    {
     "output_type": "execute_result",
     "data": {
      "text/plain": [
       "reviewerID         object\n",
       "asin               object\n",
       "reviewerName       object\n",
       "helpful            object\n",
       "reviewText         object\n",
       "overall             int64\n",
       "summary            object\n",
       "unixReviewTime      int64\n",
       "reviewTime         object\n",
       "title              object\n",
       "price             float64\n",
       "imUrl              object\n",
       "salesRank          object\n",
       "categories         object\n",
       "related            object\n",
       "brand              object\n",
       "description        object\n",
       "dtype: object"
      ]
     },
     "metadata": {},
     "execution_count": 105
    }
   ],
   "source": [
    "dataset.dtypes"
   ]
  },
  {
   "cell_type": "code",
   "execution_count": 106,
   "metadata": {},
   "outputs": [
    {
     "output_type": "execute_result",
     "data": {
      "text/plain": [
       "count    10261.000000\n",
       "mean         4.488744\n",
       "std          0.894642\n",
       "min          1.000000\n",
       "25%          4.000000\n",
       "50%          5.000000\n",
       "75%          5.000000\n",
       "max          5.000000\n",
       "Name: overall, dtype: float64"
      ]
     },
     "metadata": {},
     "execution_count": 106
    }
   ],
   "source": [
    "dataset['overall'].describe()\n"
   ]
  },
  {
   "cell_type": "code",
   "execution_count": 107,
   "metadata": {},
   "outputs": [
    {
     "output_type": "stream",
     "name": "stdout",
     "text": [
      "<class 'pandas.core.frame.DataFrame'>\nRangeIndex: 10261 entries, 0 to 10260\nData columns (total 17 columns):\n #   Column          Non-Null Count  Dtype  \n---  ------          --------------  -----  \n 0   reviewerID      10261 non-null  object \n 1   asin            10261 non-null  object \n 2   reviewerName    10234 non-null  object \n 3   helpful         10261 non-null  object \n 4   reviewText      10254 non-null  object \n 5   overall         10261 non-null  int64  \n 6   summary         10261 non-null  object \n 7   unixReviewTime  10261 non-null  int64  \n 8   reviewTime      10261 non-null  object \n 9   title           10237 non-null  object \n 10  price           10247 non-null  float64\n 11  imUrl           10247 non-null  object \n 12  salesRank       10225 non-null  object \n 13  categories      10261 non-null  object \n 14  related         10247 non-null  object \n 15  brand           9105 non-null   object \n 16  description     7412 non-null   object \ndtypes: float64(1), int64(2), object(14)\nmemory usage: 1.3+ MB\n"
     ]
    }
   ],
   "source": [
    "# To count each attribute non null values and data types . \n",
    "dataset.info()"
   ]
  },
  {
   "cell_type": "code",
   "execution_count": 108,
   "metadata": {},
   "outputs": [
    {
     "output_type": "execute_result",
     "data": {
      "text/plain": [
       "reviewerID           0\n",
       "asin                 0\n",
       "reviewerName        27\n",
       "helpful              0\n",
       "reviewText           7\n",
       "overall              0\n",
       "summary              0\n",
       "unixReviewTime       0\n",
       "reviewTime           0\n",
       "title               24\n",
       "price               14\n",
       "imUrl               14\n",
       "salesRank           36\n",
       "categories           0\n",
       "related             14\n",
       "brand             1156\n",
       "description       2849\n",
       "dtype: int64"
      ]
     },
     "metadata": {},
     "execution_count": 108
    }
   ],
   "source": [
    "# to check and count number of nulls in the dataframe \n",
    "dataset.isna().sum()"
   ]
  },
  {
   "cell_type": "code",
   "execution_count": 109,
   "metadata": {},
   "outputs": [
    {
     "output_type": "execute_result",
     "data": {
      "text/plain": [
       "5    6938\n",
       "4    2084\n",
       "3     772\n",
       "2     250\n",
       "1     217\n",
       "Name: overall, dtype: int64"
      ]
     },
     "metadata": {},
     "execution_count": 109
    }
   ],
   "source": [
    "dataset['overall'].value_counts()"
   ]
  },
  {
   "cell_type": "code",
   "execution_count": 110,
   "metadata": {},
   "outputs": [],
   "source": [
    "dataset.drop(['reviewerName','unixReviewTime','reviewTime','imUrl','salesRank','categories','related','description'], axis=1, inplace= True)"
   ]
  },
  {
   "cell_type": "code",
   "execution_count": 111,
   "metadata": {},
   "outputs": [
    {
     "output_type": "execute_result",
     "data": {
      "text/plain": [
       "       reviewerID        asin   helpful  \\\n",
       "0  A2IBPI20UZIR0U  1384719342    [0, 0]   \n",
       "1  A14VAT5EAX3D9S  1384719342  [13, 14]   \n",
       "2  A195EZSQDW3E21  1384719342    [1, 1]   \n",
       "3  A2C00NNG1ZQQG2  1384719342    [0, 0]   \n",
       "4   A94QU4C90B1AX  1384719342    [0, 0]   \n",
       "\n",
       "                                          reviewText  overall  \\\n",
       "0  Not much to write about here, but it does exac...        5   \n",
       "1  The product does exactly as it should and is q...        5   \n",
       "2  The primary job of this device is to block the...        5   \n",
       "3  Nice windscreen protects my MXL mic and preven...        5   \n",
       "4  This pop filter is great. It looks and perform...        5   \n",
       "\n",
       "                                 summary  \\\n",
       "0                                   good   \n",
       "1                                   Jake   \n",
       "2                   It Does The Job Well   \n",
       "3          GOOD WINDSCREEN FOR THE MONEY   \n",
       "4  No more pops when I record my vocals.   \n",
       "\n",
       "                                               title  price      brand  \n",
       "0  niceEshop Studio Microphone Mic Wind Screen Po...   7.09  niceEshop  \n",
       "1  niceEshop Studio Microphone Mic Wind Screen Po...   7.09  niceEshop  \n",
       "2  niceEshop Studio Microphone Mic Wind Screen Po...   7.09  niceEshop  \n",
       "3  niceEshop Studio Microphone Mic Wind Screen Po...   7.09  niceEshop  \n",
       "4  niceEshop Studio Microphone Mic Wind Screen Po...   7.09  niceEshop  "
      ],
      "text/html": "<div>\n<style scoped>\n    .dataframe tbody tr th:only-of-type {\n        vertical-align: middle;\n    }\n\n    .dataframe tbody tr th {\n        vertical-align: top;\n    }\n\n    .dataframe thead th {\n        text-align: right;\n    }\n</style>\n<table border=\"1\" class=\"dataframe\">\n  <thead>\n    <tr style=\"text-align: right;\">\n      <th></th>\n      <th>reviewerID</th>\n      <th>asin</th>\n      <th>helpful</th>\n      <th>reviewText</th>\n      <th>overall</th>\n      <th>summary</th>\n      <th>title</th>\n      <th>price</th>\n      <th>brand</th>\n    </tr>\n  </thead>\n  <tbody>\n    <tr>\n      <th>0</th>\n      <td>A2IBPI20UZIR0U</td>\n      <td>1384719342</td>\n      <td>[0, 0]</td>\n      <td>Not much to write about here, but it does exac...</td>\n      <td>5</td>\n      <td>good</td>\n      <td>niceEshop Studio Microphone Mic Wind Screen Po...</td>\n      <td>7.09</td>\n      <td>niceEshop</td>\n    </tr>\n    <tr>\n      <th>1</th>\n      <td>A14VAT5EAX3D9S</td>\n      <td>1384719342</td>\n      <td>[13, 14]</td>\n      <td>The product does exactly as it should and is q...</td>\n      <td>5</td>\n      <td>Jake</td>\n      <td>niceEshop Studio Microphone Mic Wind Screen Po...</td>\n      <td>7.09</td>\n      <td>niceEshop</td>\n    </tr>\n    <tr>\n      <th>2</th>\n      <td>A195EZSQDW3E21</td>\n      <td>1384719342</td>\n      <td>[1, 1]</td>\n      <td>The primary job of this device is to block the...</td>\n      <td>5</td>\n      <td>It Does The Job Well</td>\n      <td>niceEshop Studio Microphone Mic Wind Screen Po...</td>\n      <td>7.09</td>\n      <td>niceEshop</td>\n    </tr>\n    <tr>\n      <th>3</th>\n      <td>A2C00NNG1ZQQG2</td>\n      <td>1384719342</td>\n      <td>[0, 0]</td>\n      <td>Nice windscreen protects my MXL mic and preven...</td>\n      <td>5</td>\n      <td>GOOD WINDSCREEN FOR THE MONEY</td>\n      <td>niceEshop Studio Microphone Mic Wind Screen Po...</td>\n      <td>7.09</td>\n      <td>niceEshop</td>\n    </tr>\n    <tr>\n      <th>4</th>\n      <td>A94QU4C90B1AX</td>\n      <td>1384719342</td>\n      <td>[0, 0]</td>\n      <td>This pop filter is great. It looks and perform...</td>\n      <td>5</td>\n      <td>No more pops when I record my vocals.</td>\n      <td>niceEshop Studio Microphone Mic Wind Screen Po...</td>\n      <td>7.09</td>\n      <td>niceEshop</td>\n    </tr>\n  </tbody>\n</table>\n</div>"
     },
     "metadata": {},
     "execution_count": 111
    }
   ],
   "source": [
    "dataset.head()"
   ]
  },
  {
   "cell_type": "code",
   "execution_count": 112,
   "metadata": {},
   "outputs": [],
   "source": [
    "dataset['fullreview'] = dataset['reviewText']+' '+dataset['summary']"
   ]
  },
  {
   "cell_type": "code",
   "execution_count": 113,
   "metadata": {},
   "outputs": [],
   "source": [
    "dataset['reviewlength'] = dataset['fullreview'].str.len()"
   ]
  },
  {
   "cell_type": "code",
   "execution_count": 114,
   "metadata": {},
   "outputs": [
    {
     "output_type": "execute_result",
     "data": {
      "text/plain": [
       "       reviewerID        asin   helpful  \\\n",
       "0  A2IBPI20UZIR0U  1384719342    [0, 0]   \n",
       "1  A14VAT5EAX3D9S  1384719342  [13, 14]   \n",
       "2  A195EZSQDW3E21  1384719342    [1, 1]   \n",
       "3  A2C00NNG1ZQQG2  1384719342    [0, 0]   \n",
       "4   A94QU4C90B1AX  1384719342    [0, 0]   \n",
       "\n",
       "                                          reviewText  overall  \\\n",
       "0  Not much to write about here, but it does exac...        5   \n",
       "1  The product does exactly as it should and is q...        5   \n",
       "2  The primary job of this device is to block the...        5   \n",
       "3  Nice windscreen protects my MXL mic and preven...        5   \n",
       "4  This pop filter is great. It looks and perform...        5   \n",
       "\n",
       "                                 summary  \\\n",
       "0                                   good   \n",
       "1                                   Jake   \n",
       "2                   It Does The Job Well   \n",
       "3          GOOD WINDSCREEN FOR THE MONEY   \n",
       "4  No more pops when I record my vocals.   \n",
       "\n",
       "                                               title  price      brand  \\\n",
       "0  niceEshop Studio Microphone Mic Wind Screen Po...   7.09  niceEshop   \n",
       "1  niceEshop Studio Microphone Mic Wind Screen Po...   7.09  niceEshop   \n",
       "2  niceEshop Studio Microphone Mic Wind Screen Po...   7.09  niceEshop   \n",
       "3  niceEshop Studio Microphone Mic Wind Screen Po...   7.09  niceEshop   \n",
       "4  niceEshop Studio Microphone Mic Wind Screen Po...   7.09  niceEshop   \n",
       "\n",
       "                                          fullreview  reviewlength  \n",
       "0  Not much to write about here, but it does exac...         273.0  \n",
       "1  The product does exactly as it should and is q...         549.0  \n",
       "2  The primary job of this device is to block the...         457.0  \n",
       "3  Nice windscreen protects my MXL mic and preven...         236.0  \n",
       "4  This pop filter is great. It looks and perform...         197.0  "
      ],
      "text/html": "<div>\n<style scoped>\n    .dataframe tbody tr th:only-of-type {\n        vertical-align: middle;\n    }\n\n    .dataframe tbody tr th {\n        vertical-align: top;\n    }\n\n    .dataframe thead th {\n        text-align: right;\n    }\n</style>\n<table border=\"1\" class=\"dataframe\">\n  <thead>\n    <tr style=\"text-align: right;\">\n      <th></th>\n      <th>reviewerID</th>\n      <th>asin</th>\n      <th>helpful</th>\n      <th>reviewText</th>\n      <th>overall</th>\n      <th>summary</th>\n      <th>title</th>\n      <th>price</th>\n      <th>brand</th>\n      <th>fullreview</th>\n      <th>reviewlength</th>\n    </tr>\n  </thead>\n  <tbody>\n    <tr>\n      <th>0</th>\n      <td>A2IBPI20UZIR0U</td>\n      <td>1384719342</td>\n      <td>[0, 0]</td>\n      <td>Not much to write about here, but it does exac...</td>\n      <td>5</td>\n      <td>good</td>\n      <td>niceEshop Studio Microphone Mic Wind Screen Po...</td>\n      <td>7.09</td>\n      <td>niceEshop</td>\n      <td>Not much to write about here, but it does exac...</td>\n      <td>273.0</td>\n    </tr>\n    <tr>\n      <th>1</th>\n      <td>A14VAT5EAX3D9S</td>\n      <td>1384719342</td>\n      <td>[13, 14]</td>\n      <td>The product does exactly as it should and is q...</td>\n      <td>5</td>\n      <td>Jake</td>\n      <td>niceEshop Studio Microphone Mic Wind Screen Po...</td>\n      <td>7.09</td>\n      <td>niceEshop</td>\n      <td>The product does exactly as it should and is q...</td>\n      <td>549.0</td>\n    </tr>\n    <tr>\n      <th>2</th>\n      <td>A195EZSQDW3E21</td>\n      <td>1384719342</td>\n      <td>[1, 1]</td>\n      <td>The primary job of this device is to block the...</td>\n      <td>5</td>\n      <td>It Does The Job Well</td>\n      <td>niceEshop Studio Microphone Mic Wind Screen Po...</td>\n      <td>7.09</td>\n      <td>niceEshop</td>\n      <td>The primary job of this device is to block the...</td>\n      <td>457.0</td>\n    </tr>\n    <tr>\n      <th>3</th>\n      <td>A2C00NNG1ZQQG2</td>\n      <td>1384719342</td>\n      <td>[0, 0]</td>\n      <td>Nice windscreen protects my MXL mic and preven...</td>\n      <td>5</td>\n      <td>GOOD WINDSCREEN FOR THE MONEY</td>\n      <td>niceEshop Studio Microphone Mic Wind Screen Po...</td>\n      <td>7.09</td>\n      <td>niceEshop</td>\n      <td>Nice windscreen protects my MXL mic and preven...</td>\n      <td>236.0</td>\n    </tr>\n    <tr>\n      <th>4</th>\n      <td>A94QU4C90B1AX</td>\n      <td>1384719342</td>\n      <td>[0, 0]</td>\n      <td>This pop filter is great. It looks and perform...</td>\n      <td>5</td>\n      <td>No more pops when I record my vocals.</td>\n      <td>niceEshop Studio Microphone Mic Wind Screen Po...</td>\n      <td>7.09</td>\n      <td>niceEshop</td>\n      <td>This pop filter is great. It looks and perform...</td>\n      <td>197.0</td>\n    </tr>\n  </tbody>\n</table>\n</div>"
     },
     "metadata": {},
     "execution_count": 114
    }
   ],
   "source": [
    "dataset.head()"
   ]
  },
  {
   "cell_type": "code",
   "execution_count": 115,
   "metadata": {},
   "outputs": [],
   "source": [
    "dataset = dataset.rename(columns={'asin':'productID','overall':'rating'})"
   ]
  },
  {
   "cell_type": "code",
   "execution_count": 116,
   "metadata": {},
   "outputs": [],
   "source": [
    "dataset= dataset.dropna()"
   ]
  },
  {
   "cell_type": "code",
   "execution_count": 117,
   "metadata": {},
   "outputs": [
    {
     "output_type": "execute_result",
     "data": {
      "text/plain": [
       "       reviewerID   productID   helpful  \\\n",
       "0  A2IBPI20UZIR0U  1384719342    [0, 0]   \n",
       "1  A14VAT5EAX3D9S  1384719342  [13, 14]   \n",
       "2  A195EZSQDW3E21  1384719342    [1, 1]   \n",
       "3  A2C00NNG1ZQQG2  1384719342    [0, 0]   \n",
       "4   A94QU4C90B1AX  1384719342    [0, 0]   \n",
       "\n",
       "                                          reviewText  rating  \\\n",
       "0  Not much to write about here, but it does exac...       5   \n",
       "1  The product does exactly as it should and is q...       5   \n",
       "2  The primary job of this device is to block the...       5   \n",
       "3  Nice windscreen protects my MXL mic and preven...       5   \n",
       "4  This pop filter is great. It looks and perform...       5   \n",
       "\n",
       "                                 summary  \\\n",
       "0                                   good   \n",
       "1                                   Jake   \n",
       "2                   It Does The Job Well   \n",
       "3          GOOD WINDSCREEN FOR THE MONEY   \n",
       "4  No more pops when I record my vocals.   \n",
       "\n",
       "                                               title  price      brand  \\\n",
       "0  niceEshop Studio Microphone Mic Wind Screen Po...   7.09  niceEshop   \n",
       "1  niceEshop Studio Microphone Mic Wind Screen Po...   7.09  niceEshop   \n",
       "2  niceEshop Studio Microphone Mic Wind Screen Po...   7.09  niceEshop   \n",
       "3  niceEshop Studio Microphone Mic Wind Screen Po...   7.09  niceEshop   \n",
       "4  niceEshop Studio Microphone Mic Wind Screen Po...   7.09  niceEshop   \n",
       "\n",
       "                                          fullreview  reviewlength  \n",
       "0  Not much to write about here, but it does exac...         273.0  \n",
       "1  The product does exactly as it should and is q...         549.0  \n",
       "2  The primary job of this device is to block the...         457.0  \n",
       "3  Nice windscreen protects my MXL mic and preven...         236.0  \n",
       "4  This pop filter is great. It looks and perform...         197.0  "
      ],
      "text/html": "<div>\n<style scoped>\n    .dataframe tbody tr th:only-of-type {\n        vertical-align: middle;\n    }\n\n    .dataframe tbody tr th {\n        vertical-align: top;\n    }\n\n    .dataframe thead th {\n        text-align: right;\n    }\n</style>\n<table border=\"1\" class=\"dataframe\">\n  <thead>\n    <tr style=\"text-align: right;\">\n      <th></th>\n      <th>reviewerID</th>\n      <th>productID</th>\n      <th>helpful</th>\n      <th>reviewText</th>\n      <th>rating</th>\n      <th>summary</th>\n      <th>title</th>\n      <th>price</th>\n      <th>brand</th>\n      <th>fullreview</th>\n      <th>reviewlength</th>\n    </tr>\n  </thead>\n  <tbody>\n    <tr>\n      <th>0</th>\n      <td>A2IBPI20UZIR0U</td>\n      <td>1384719342</td>\n      <td>[0, 0]</td>\n      <td>Not much to write about here, but it does exac...</td>\n      <td>5</td>\n      <td>good</td>\n      <td>niceEshop Studio Microphone Mic Wind Screen Po...</td>\n      <td>7.09</td>\n      <td>niceEshop</td>\n      <td>Not much to write about here, but it does exac...</td>\n      <td>273.0</td>\n    </tr>\n    <tr>\n      <th>1</th>\n      <td>A14VAT5EAX3D9S</td>\n      <td>1384719342</td>\n      <td>[13, 14]</td>\n      <td>The product does exactly as it should and is q...</td>\n      <td>5</td>\n      <td>Jake</td>\n      <td>niceEshop Studio Microphone Mic Wind Screen Po...</td>\n      <td>7.09</td>\n      <td>niceEshop</td>\n      <td>The product does exactly as it should and is q...</td>\n      <td>549.0</td>\n    </tr>\n    <tr>\n      <th>2</th>\n      <td>A195EZSQDW3E21</td>\n      <td>1384719342</td>\n      <td>[1, 1]</td>\n      <td>The primary job of this device is to block the...</td>\n      <td>5</td>\n      <td>It Does The Job Well</td>\n      <td>niceEshop Studio Microphone Mic Wind Screen Po...</td>\n      <td>7.09</td>\n      <td>niceEshop</td>\n      <td>The primary job of this device is to block the...</td>\n      <td>457.0</td>\n    </tr>\n    <tr>\n      <th>3</th>\n      <td>A2C00NNG1ZQQG2</td>\n      <td>1384719342</td>\n      <td>[0, 0]</td>\n      <td>Nice windscreen protects my MXL mic and preven...</td>\n      <td>5</td>\n      <td>GOOD WINDSCREEN FOR THE MONEY</td>\n      <td>niceEshop Studio Microphone Mic Wind Screen Po...</td>\n      <td>7.09</td>\n      <td>niceEshop</td>\n      <td>Nice windscreen protects my MXL mic and preven...</td>\n      <td>236.0</td>\n    </tr>\n    <tr>\n      <th>4</th>\n      <td>A94QU4C90B1AX</td>\n      <td>1384719342</td>\n      <td>[0, 0]</td>\n      <td>This pop filter is great. It looks and perform...</td>\n      <td>5</td>\n      <td>No more pops when I record my vocals.</td>\n      <td>niceEshop Studio Microphone Mic Wind Screen Po...</td>\n      <td>7.09</td>\n      <td>niceEshop</td>\n      <td>This pop filter is great. It looks and perform...</td>\n      <td>197.0</td>\n    </tr>\n  </tbody>\n</table>\n</div>"
     },
     "metadata": {},
     "execution_count": 117
    }
   ],
   "source": [
    "dataset.head()"
   ]
  },
  {
   "cell_type": "code",
   "execution_count": 118,
   "metadata": {},
   "outputs": [
    {
     "output_type": "execute_result",
     "data": {
      "text/plain": [
       "reviewerID      0\n",
       "productID       0\n",
       "helpful         0\n",
       "reviewText      0\n",
       "rating          0\n",
       "summary         0\n",
       "title           0\n",
       "price           0\n",
       "brand           0\n",
       "fullreview      0\n",
       "reviewlength    0\n",
       "dtype: int64"
      ]
     },
     "metadata": {},
     "execution_count": 118
    }
   ],
   "source": [
    "dataset.isna().sum()"
   ]
  },
  {
   "cell_type": "code",
   "execution_count": 119,
   "metadata": {},
   "outputs": [
    {
     "output_type": "stream",
     "name": "stdout",
     "text": [
      "<class 'pandas.core.frame.DataFrame'>\nInt64Index: 9098 entries, 0 to 10260\nData columns (total 11 columns):\n #   Column        Non-Null Count  Dtype  \n---  ------        --------------  -----  \n 0   reviewerID    9098 non-null   object \n 1   productID     9098 non-null   object \n 2   helpful       9098 non-null   object \n 3   reviewText    9098 non-null   object \n 4   rating        9098 non-null   int64  \n 5   summary       9098 non-null   object \n 6   title         9098 non-null   object \n 7   price         9098 non-null   float64\n 8   brand         9098 non-null   object \n 9   fullreview    9098 non-null   object \n 10  reviewlength  9098 non-null   float64\ndtypes: float64(2), int64(1), object(8)\nmemory usage: 852.9+ KB\n"
     ]
    }
   ],
   "source": [
    "dataset.info()"
   ]
  },
  {
   "cell_type": "code",
   "execution_count": 67,
   "metadata": {},
   "outputs": [
    {
     "output_type": "execute_result",
     "data": {
      "text/plain": [
       "(9098, 10)"
      ]
     },
     "metadata": {},
     "execution_count": 67
    }
   ],
   "source": [
    "dataset.shape"
   ]
  },
  {
   "cell_type": "code",
   "execution_count": 144,
   "metadata": {},
   "outputs": [
    {
     "output_type": "stream",
     "name": "stdout",
     "text": [
      "\n =====Descriptive statistics========\n\n Number of total reviews: 9098\nNumber of unique reviewers:  1429\nNumber of unique products:  794\nNumber of unique brands:  198\nAverage rating score:  4.481\n"
     ]
    }
   ],
   "source": [
    "print(\"\\n\",\"=====Descriptive statistics========\")\n",
    "\n",
    "total = len(dataset)\n",
    "print(\"\\n\",\"Number of total reviews:\",total)\n",
    "\n",
    "print (\"Number of unique reviewers: \",len(dataset.reviewerID.unique()))\n",
    "reviewer_prop = float(len(dataset.reviewerID.unique())/total)\n",
    "\n",
    "print (\"Number of unique products: \", len(dataset.productID.unique()))\n",
    "product_prop = float(len(dataset.productID.unique())/total)\n",
    "\n",
    "print (\"Number of unique brands: \", len(dataset.brand.unique()))\n",
    "print (\"Average rating score: \",round(dataset.rating.mean(),3))\n",
    "\n",
    "\n",
    "\n"
   ]
  },
  {
   "cell_type": "code",
   "execution_count": 143,
   "metadata": {},
   "outputs": [
    {
     "output_type": "stream",
     "name": "stdout",
     "text": [
      "\n ==Rating Attriburte stats\ncount    9098.000000\nmean        4.480875\nstd         0.896488\nmin         1.000000\n25%         4.000000\n50%         5.000000\n75%         5.000000\nmax         5.000000\nName: rating, dtype: float64\n\n ==Price stats\n"
     ]
    },
    {
     "output_type": "execute_result",
     "data": {
      "text/plain": [
       "count    9098.000000\n",
       "mean       31.544366\n",
       "std        51.265850\n",
       "min         0.050000\n",
       "25%         6.460000\n",
       "50%        12.500000\n",
       "75%        29.990000\n",
       "max       599.000000\n",
       "Name: price, dtype: float64"
      ]
     },
     "metadata": {},
     "execution_count": 143
    }
   ],
   "source": [
    "print(\"\\n\",\"==Rating Attriburte stats\")\n",
    "print(dataset['rating'].describe())\n",
    "\n",
    "print(\"\\n\",\"==Price stats\")\n",
    "dataset['price'].describe()"
   ]
  },
  {
   "cell_type": "code",
   "execution_count": null,
   "metadata": {},
   "outputs": [],
   "source": []
  }
 ]
}