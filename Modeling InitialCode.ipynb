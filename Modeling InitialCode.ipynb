{
 "cells": [
  {
   "cell_type": "code",
   "execution_count": 27,
   "metadata": {},
   "outputs": [
    {
     "data": {
      "text/plain": [
       "'/home/jovyan'"
      ]
     },
     "execution_count": 27,
     "metadata": {},
     "output_type": "execute_result"
    }
   ],
   "source": [
    "    import os\n",
    "    os.getcwd()"
   ]
  },
  {
   "cell_type": "code",
   "execution_count": 28,
   "metadata": {},
   "outputs": [],
   "source": [
    "try:\n",
    "    from collections import OrderedDict\n",
    "except ImportError:\n",
    "    from ordereddict import OrderedDict\n",
    "    \n",
    "import pandas as pd\n",
    "\n",
    "# Array\n",
    "import numpy as np\n",
    "\n",
    "# Decompress the file\n",
    "import gzip\n",
    "\n",
    "# Visualizations\n",
    "import matplotlib.pyplot as plt\n",
    "from matplotlib.colors import ListedColormap\n",
    "import seaborn as sns\n",
    "import matplotlib.colors as colors\n",
    "%matplotlib inline\n",
    "\n",
    "# Datetime\n",
    "from datetime import datetime\n",
    "\n",
    "## Warnings\n",
    "import warnings\n",
    "from scipy import stats\n",
    "warnings.filterwarnings('ignore')\n",
    "\n",
    "# Large dataset\n",
    "import dask.bag as db\n",
    "Cleanreview_df = pd.read_csv('musicreviews_clean.csv' )\n"
   ]
  },
  {
   "cell_type": "code",
   "execution_count": 29,
   "metadata": {},
   "outputs": [
    {
     "data": {
      "text/html": [
       "<div>\n",
       "<style scoped>\n",
       "    .dataframe tbody tr th:only-of-type {\n",
       "        vertical-align: middle;\n",
       "    }\n",
       "\n",
       "    .dataframe tbody tr th {\n",
       "        vertical-align: top;\n",
       "    }\n",
       "\n",
       "    .dataframe thead th {\n",
       "        text-align: right;\n",
       "    }\n",
       "</style>\n",
       "<table border=\"1\" class=\"dataframe\">\n",
       "  <thead>\n",
       "    <tr style=\"text-align: right;\">\n",
       "      <th></th>\n",
       "      <th>Unnamed: 0</th>\n",
       "      <th>reviewerID</th>\n",
       "      <th>asin</th>\n",
       "      <th>helpful</th>\n",
       "      <th>overall</th>\n",
       "      <th>unixReviewTime</th>\n",
       "      <th>title</th>\n",
       "      <th>price</th>\n",
       "      <th>imUrl</th>\n",
       "      <th>categories</th>\n",
       "      <th>...</th>\n",
       "      <th>Full_Review_str</th>\n",
       "      <th>tokenized</th>\n",
       "      <th>lower</th>\n",
       "      <th>langs</th>\n",
       "      <th>no_punc</th>\n",
       "      <th>stopwords_removed</th>\n",
       "      <th>pos_tags</th>\n",
       "      <th>wordnet_pos</th>\n",
       "      <th>lemmatized</th>\n",
       "      <th>lemma_str</th>\n",
       "    </tr>\n",
       "  </thead>\n",
       "  <tbody>\n",
       "    <tr>\n",
       "      <th>0</th>\n",
       "      <td>0</td>\n",
       "      <td>A2IBPI20UZIR0U</td>\n",
       "      <td>1384719342</td>\n",
       "      <td>[0, 0]</td>\n",
       "      <td>5</td>\n",
       "      <td>1393545600</td>\n",
       "      <td>niceEshop Studio Microphone Mic Wind Screen Po...</td>\n",
       "      <td>7.09</td>\n",
       "      <td>http://ecx.images-amazon.com/images/I/510D2cVp...</td>\n",
       "      <td>[['Musical Instruments', 'Microphones &amp; Access...</td>\n",
       "      <td>...</td>\n",
       "      <td>good Not much to write about here, but it does...</td>\n",
       "      <td>['good', 'Not', 'much', 'to', 'write', 'about'...</td>\n",
       "      <td>['good', 'not', 'much', 'to', 'write', 'about'...</td>\n",
       "      <td>en</td>\n",
       "      <td>['good', 'not', 'much', 'to', 'write', 'about'...</td>\n",
       "      <td>['good', 'much', 'write', 'exactly', 'supposed...</td>\n",
       "      <td>[('good', 'JJ'), ('much', 'RB'), ('write', 'VB...</td>\n",
       "      <td>[('good', 'a'), ('much', 'r'), ('write', 'v'),...</td>\n",
       "      <td>['good', 'much', 'write', 'exactly', 'suppose'...</td>\n",
       "      <td>good much write exactly suppose filter pop sou...</td>\n",
       "    </tr>\n",
       "    <tr>\n",
       "      <th>1</th>\n",
       "      <td>1</td>\n",
       "      <td>A14VAT5EAX3D9S</td>\n",
       "      <td>1384719342</td>\n",
       "      <td>[13, 14]</td>\n",
       "      <td>5</td>\n",
       "      <td>1363392000</td>\n",
       "      <td>niceEshop Studio Microphone Mic Wind Screen Po...</td>\n",
       "      <td>7.09</td>\n",
       "      <td>http://ecx.images-amazon.com/images/I/510D2cVp...</td>\n",
       "      <td>[['Musical Instruments', 'Microphones &amp; Access...</td>\n",
       "      <td>...</td>\n",
       "      <td>Jake The product does exactly as it should and...</td>\n",
       "      <td>['Jake', 'The', 'product', 'does', 'exactly', ...</td>\n",
       "      <td>['jake', 'the', 'product', 'does', 'exactly', ...</td>\n",
       "      <td>en</td>\n",
       "      <td>['jake', 'the', 'product', 'does', 'exactly', ...</td>\n",
       "      <td>['jake', 'product', 'exactly', 'quite', 'affor...</td>\n",
       "      <td>[('jake', 'NN'), ('product', 'NN'), ('exactly'...</td>\n",
       "      <td>[('jake', 'n'), ('product', 'n'), ('exactly', ...</td>\n",
       "      <td>['jake', 'product', 'exactly', 'quite', 'affor...</td>\n",
       "      <td>jake product exactly quite affordable.i realiz...</td>\n",
       "    </tr>\n",
       "    <tr>\n",
       "      <th>2</th>\n",
       "      <td>2</td>\n",
       "      <td>A195EZSQDW3E21</td>\n",
       "      <td>1384719342</td>\n",
       "      <td>[1, 1]</td>\n",
       "      <td>5</td>\n",
       "      <td>1377648000</td>\n",
       "      <td>niceEshop Studio Microphone Mic Wind Screen Po...</td>\n",
       "      <td>7.09</td>\n",
       "      <td>http://ecx.images-amazon.com/images/I/510D2cVp...</td>\n",
       "      <td>[['Musical Instruments', 'Microphones &amp; Access...</td>\n",
       "      <td>...</td>\n",
       "      <td>It Does The Job Well The primary job of this d...</td>\n",
       "      <td>['It', 'Does', 'The', 'Job', 'Well', 'The', 'p...</td>\n",
       "      <td>['it', 'does', 'the', 'job', 'well', 'the', 'p...</td>\n",
       "      <td>en</td>\n",
       "      <td>['it', 'does', 'the', 'job', 'well', 'the', 'p...</td>\n",
       "      <td>['job', 'well', 'primary', 'job', 'device', 'b...</td>\n",
       "      <td>[('job', 'NN'), ('well', 'RB'), ('primary', 'J...</td>\n",
       "      <td>[('job', 'n'), ('well', 'r'), ('primary', 'a')...</td>\n",
       "      <td>['job', 'well', 'primary', 'job', 'device', 'b...</td>\n",
       "      <td>job well primary job device block breath would...</td>\n",
       "    </tr>\n",
       "    <tr>\n",
       "      <th>3</th>\n",
       "      <td>3</td>\n",
       "      <td>A2C00NNG1ZQQG2</td>\n",
       "      <td>1384719342</td>\n",
       "      <td>[0, 0]</td>\n",
       "      <td>5</td>\n",
       "      <td>1392336000</td>\n",
       "      <td>niceEshop Studio Microphone Mic Wind Screen Po...</td>\n",
       "      <td>7.09</td>\n",
       "      <td>http://ecx.images-amazon.com/images/I/510D2cVp...</td>\n",
       "      <td>[['Musical Instruments', 'Microphones &amp; Access...</td>\n",
       "      <td>...</td>\n",
       "      <td>GOOD WINDSCREEN FOR THE MONEY Nice windscreen ...</td>\n",
       "      <td>['GOOD', 'WINDSCREEN', 'FOR', 'THE', 'MONEY', ...</td>\n",
       "      <td>['good', 'windscreen', 'for', 'the', 'money', ...</td>\n",
       "      <td>en</td>\n",
       "      <td>['good', 'windscreen', 'for', 'the', 'money', ...</td>\n",
       "      <td>['good', 'windscreen', 'money', 'nice', 'winds...</td>\n",
       "      <td>[('good', 'JJ'), ('windscreen', 'NN'), ('money...</td>\n",
       "      <td>[('good', 'a'), ('windscreen', 'n'), ('money',...</td>\n",
       "      <td>['good', 'windscreen', 'money', 'nice', 'winds...</td>\n",
       "      <td>good windscreen money nice windscreen protects...</td>\n",
       "    </tr>\n",
       "    <tr>\n",
       "      <th>4</th>\n",
       "      <td>4</td>\n",
       "      <td>A94QU4C90B1AX</td>\n",
       "      <td>1384719342</td>\n",
       "      <td>[0, 0]</td>\n",
       "      <td>5</td>\n",
       "      <td>1392940800</td>\n",
       "      <td>niceEshop Studio Microphone Mic Wind Screen Po...</td>\n",
       "      <td>7.09</td>\n",
       "      <td>http://ecx.images-amazon.com/images/I/510D2cVp...</td>\n",
       "      <td>[['Musical Instruments', 'Microphones &amp; Access...</td>\n",
       "      <td>...</td>\n",
       "      <td>No more pops when I record my vocals. This pop...</td>\n",
       "      <td>['No', 'more', 'pops', 'when', 'I', 'record', ...</td>\n",
       "      <td>['no', 'more', 'pops', 'when', 'i', 'record', ...</td>\n",
       "      <td>en</td>\n",
       "      <td>['no', 'more', 'pops', 'when', 'i', 'record', ...</td>\n",
       "      <td>['pops', 'record', 'vocals', 'pop', 'filter', ...</td>\n",
       "      <td>[('pops', 'NNS'), ('record', 'NN'), ('vocals',...</td>\n",
       "      <td>[('pops', 'n'), ('record', 'n'), ('vocals', 'n...</td>\n",
       "      <td>['pop', 'record', 'vocal', 'pop', 'filter', 'g...</td>\n",
       "      <td>pop record vocal pop filter great look perform...</td>\n",
       "    </tr>\n",
       "  </tbody>\n",
       "</table>\n",
       "<p>5 rows × 25 columns</p>\n",
       "</div>"
      ],
      "text/plain": [
       "   Unnamed: 0      reviewerID        asin   helpful  overall  unixReviewTime  \\\n",
       "0           0  A2IBPI20UZIR0U  1384719342    [0, 0]        5      1393545600   \n",
       "1           1  A14VAT5EAX3D9S  1384719342  [13, 14]        5      1363392000   \n",
       "2           2  A195EZSQDW3E21  1384719342    [1, 1]        5      1377648000   \n",
       "3           3  A2C00NNG1ZQQG2  1384719342    [0, 0]        5      1392336000   \n",
       "4           4   A94QU4C90B1AX  1384719342    [0, 0]        5      1392940800   \n",
       "\n",
       "                                               title  price  \\\n",
       "0  niceEshop Studio Microphone Mic Wind Screen Po...   7.09   \n",
       "1  niceEshop Studio Microphone Mic Wind Screen Po...   7.09   \n",
       "2  niceEshop Studio Microphone Mic Wind Screen Po...   7.09   \n",
       "3  niceEshop Studio Microphone Mic Wind Screen Po...   7.09   \n",
       "4  niceEshop Studio Microphone Mic Wind Screen Po...   7.09   \n",
       "\n",
       "                                               imUrl  \\\n",
       "0  http://ecx.images-amazon.com/images/I/510D2cVp...   \n",
       "1  http://ecx.images-amazon.com/images/I/510D2cVp...   \n",
       "2  http://ecx.images-amazon.com/images/I/510D2cVp...   \n",
       "3  http://ecx.images-amazon.com/images/I/510D2cVp...   \n",
       "4  http://ecx.images-amazon.com/images/I/510D2cVp...   \n",
       "\n",
       "                                          categories  ...  \\\n",
       "0  [['Musical Instruments', 'Microphones & Access...  ...   \n",
       "1  [['Musical Instruments', 'Microphones & Access...  ...   \n",
       "2  [['Musical Instruments', 'Microphones & Access...  ...   \n",
       "3  [['Musical Instruments', 'Microphones & Access...  ...   \n",
       "4  [['Musical Instruments', 'Microphones & Access...  ...   \n",
       "\n",
       "                                     Full_Review_str  \\\n",
       "0  good Not much to write about here, but it does...   \n",
       "1  Jake The product does exactly as it should and...   \n",
       "2  It Does The Job Well The primary job of this d...   \n",
       "3  GOOD WINDSCREEN FOR THE MONEY Nice windscreen ...   \n",
       "4  No more pops when I record my vocals. This pop...   \n",
       "\n",
       "                                           tokenized  \\\n",
       "0  ['good', 'Not', 'much', 'to', 'write', 'about'...   \n",
       "1  ['Jake', 'The', 'product', 'does', 'exactly', ...   \n",
       "2  ['It', 'Does', 'The', 'Job', 'Well', 'The', 'p...   \n",
       "3  ['GOOD', 'WINDSCREEN', 'FOR', 'THE', 'MONEY', ...   \n",
       "4  ['No', 'more', 'pops', 'when', 'I', 'record', ...   \n",
       "\n",
       "                                               lower langs  \\\n",
       "0  ['good', 'not', 'much', 'to', 'write', 'about'...    en   \n",
       "1  ['jake', 'the', 'product', 'does', 'exactly', ...    en   \n",
       "2  ['it', 'does', 'the', 'job', 'well', 'the', 'p...    en   \n",
       "3  ['good', 'windscreen', 'for', 'the', 'money', ...    en   \n",
       "4  ['no', 'more', 'pops', 'when', 'i', 'record', ...    en   \n",
       "\n",
       "                                             no_punc  \\\n",
       "0  ['good', 'not', 'much', 'to', 'write', 'about'...   \n",
       "1  ['jake', 'the', 'product', 'does', 'exactly', ...   \n",
       "2  ['it', 'does', 'the', 'job', 'well', 'the', 'p...   \n",
       "3  ['good', 'windscreen', 'for', 'the', 'money', ...   \n",
       "4  ['no', 'more', 'pops', 'when', 'i', 'record', ...   \n",
       "\n",
       "                                   stopwords_removed  \\\n",
       "0  ['good', 'much', 'write', 'exactly', 'supposed...   \n",
       "1  ['jake', 'product', 'exactly', 'quite', 'affor...   \n",
       "2  ['job', 'well', 'primary', 'job', 'device', 'b...   \n",
       "3  ['good', 'windscreen', 'money', 'nice', 'winds...   \n",
       "4  ['pops', 'record', 'vocals', 'pop', 'filter', ...   \n",
       "\n",
       "                                            pos_tags  \\\n",
       "0  [('good', 'JJ'), ('much', 'RB'), ('write', 'VB...   \n",
       "1  [('jake', 'NN'), ('product', 'NN'), ('exactly'...   \n",
       "2  [('job', 'NN'), ('well', 'RB'), ('primary', 'J...   \n",
       "3  [('good', 'JJ'), ('windscreen', 'NN'), ('money...   \n",
       "4  [('pops', 'NNS'), ('record', 'NN'), ('vocals',...   \n",
       "\n",
       "                                         wordnet_pos  \\\n",
       "0  [('good', 'a'), ('much', 'r'), ('write', 'v'),...   \n",
       "1  [('jake', 'n'), ('product', 'n'), ('exactly', ...   \n",
       "2  [('job', 'n'), ('well', 'r'), ('primary', 'a')...   \n",
       "3  [('good', 'a'), ('windscreen', 'n'), ('money',...   \n",
       "4  [('pops', 'n'), ('record', 'n'), ('vocals', 'n...   \n",
       "\n",
       "                                          lemmatized  \\\n",
       "0  ['good', 'much', 'write', 'exactly', 'suppose'...   \n",
       "1  ['jake', 'product', 'exactly', 'quite', 'affor...   \n",
       "2  ['job', 'well', 'primary', 'job', 'device', 'b...   \n",
       "3  ['good', 'windscreen', 'money', 'nice', 'winds...   \n",
       "4  ['pop', 'record', 'vocal', 'pop', 'filter', 'g...   \n",
       "\n",
       "                                           lemma_str  \n",
       "0  good much write exactly suppose filter pop sou...  \n",
       "1  jake product exactly quite affordable.i realiz...  \n",
       "2  job well primary job device block breath would...  \n",
       "3  good windscreen money nice windscreen protects...  \n",
       "4  pop record vocal pop filter great look perform...  \n",
       "\n",
       "[5 rows x 25 columns]"
      ]
     },
     "execution_count": 29,
     "metadata": {},
     "output_type": "execute_result"
    }
   ],
   "source": [
    "Cleanreview_df.head()"
   ]
  },
  {
   "cell_type": "code",
   "execution_count": 30,
   "metadata": {},
   "outputs": [
    {
     "name": "stdout",
     "output_type": "stream",
     "text": [
      "<class 'pandas.core.frame.DataFrame'>\n",
      "RangeIndex: 9093 entries, 0 to 9092\n",
      "Data columns (total 25 columns):\n",
      " #   Column             Non-Null Count  Dtype  \n",
      "---  ------             --------------  -----  \n",
      " 0   Unnamed: 0         9093 non-null   int64  \n",
      " 1   reviewerID         9093 non-null   object \n",
      " 2   asin               9093 non-null   object \n",
      " 3   helpful            9093 non-null   object \n",
      " 4   overall            9093 non-null   int64  \n",
      " 5   unixReviewTime     9093 non-null   int64  \n",
      " 6   title              9093 non-null   object \n",
      " 7   price              9093 non-null   float64\n",
      " 8   imUrl              9093 non-null   object \n",
      " 9   categories         9093 non-null   object \n",
      " 10  brand              9093 non-null   object \n",
      " 11  Full Review        9093 non-null   object \n",
      " 12  Rating             9093 non-null   object \n",
      " 13  time               9093 non-null   object \n",
      " 14  contracted         9093 non-null   object \n",
      " 15  Full_Review_str    9093 non-null   object \n",
      " 16  tokenized          9093 non-null   object \n",
      " 17  lower              9093 non-null   object \n",
      " 18  langs              9093 non-null   object \n",
      " 19  no_punc            9093 non-null   object \n",
      " 20  stopwords_removed  9093 non-null   object \n",
      " 21  pos_tags           9093 non-null   object \n",
      " 22  wordnet_pos        9093 non-null   object \n",
      " 23  lemmatized         9093 non-null   object \n",
      " 24  lemma_str          9093 non-null   object \n",
      "dtypes: float64(1), int64(3), object(21)\n",
      "memory usage: 1.7+ MB\n"
     ]
    }
   ],
   "source": [
    "Cleanreview_df.info()"
   ]
  },
  {
   "cell_type": "code",
   "execution_count": 31,
   "metadata": {},
   "outputs": [
    {
     "data": {
      "text/html": [
       "<div>\n",
       "<style scoped>\n",
       "    .dataframe tbody tr th:only-of-type {\n",
       "        vertical-align: middle;\n",
       "    }\n",
       "\n",
       "    .dataframe tbody tr th {\n",
       "        vertical-align: top;\n",
       "    }\n",
       "\n",
       "    .dataframe thead th {\n",
       "        text-align: right;\n",
       "    }\n",
       "</style>\n",
       "<table border=\"1\" class=\"dataframe\">\n",
       "  <thead>\n",
       "    <tr style=\"text-align: right;\">\n",
       "      <th></th>\n",
       "      <th>Unnamed: 0</th>\n",
       "      <th>reviewerID</th>\n",
       "      <th>asin</th>\n",
       "      <th>helpful</th>\n",
       "      <th>overall</th>\n",
       "      <th>unixReviewTime</th>\n",
       "      <th>title</th>\n",
       "      <th>price</th>\n",
       "      <th>imUrl</th>\n",
       "      <th>categories</th>\n",
       "      <th>...</th>\n",
       "      <th>lower</th>\n",
       "      <th>langs</th>\n",
       "      <th>no_punc</th>\n",
       "      <th>stopwords_removed</th>\n",
       "      <th>pos_tags</th>\n",
       "      <th>wordnet_pos</th>\n",
       "      <th>lemmatized</th>\n",
       "      <th>lemma_str</th>\n",
       "      <th>ReviewDate</th>\n",
       "      <th>ReviewYear</th>\n",
       "    </tr>\n",
       "  </thead>\n",
       "  <tbody>\n",
       "    <tr>\n",
       "      <th>0</th>\n",
       "      <td>0</td>\n",
       "      <td>A2IBPI20UZIR0U</td>\n",
       "      <td>1384719342</td>\n",
       "      <td>[0, 0]</td>\n",
       "      <td>5</td>\n",
       "      <td>1393545600</td>\n",
       "      <td>niceEshop Studio Microphone Mic Wind Screen Po...</td>\n",
       "      <td>7.09</td>\n",
       "      <td>http://ecx.images-amazon.com/images/I/510D2cVp...</td>\n",
       "      <td>[['Musical Instruments', 'Microphones &amp; Access...</td>\n",
       "      <td>...</td>\n",
       "      <td>['good', 'not', 'much', 'to', 'write', 'about'...</td>\n",
       "      <td>en</td>\n",
       "      <td>['good', 'not', 'much', 'to', 'write', 'about'...</td>\n",
       "      <td>['good', 'much', 'write', 'exactly', 'supposed...</td>\n",
       "      <td>[('good', 'JJ'), ('much', 'RB'), ('write', 'VB...</td>\n",
       "      <td>[('good', 'a'), ('much', 'r'), ('write', 'v'),...</td>\n",
       "      <td>['good', 'much', 'write', 'exactly', 'suppose'...</td>\n",
       "      <td>good much write exactly suppose filter pop sou...</td>\n",
       "      <td>2014-02-28</td>\n",
       "      <td>2014</td>\n",
       "    </tr>\n",
       "    <tr>\n",
       "      <th>1</th>\n",
       "      <td>1</td>\n",
       "      <td>A14VAT5EAX3D9S</td>\n",
       "      <td>1384719342</td>\n",
       "      <td>[13, 14]</td>\n",
       "      <td>5</td>\n",
       "      <td>1363392000</td>\n",
       "      <td>niceEshop Studio Microphone Mic Wind Screen Po...</td>\n",
       "      <td>7.09</td>\n",
       "      <td>http://ecx.images-amazon.com/images/I/510D2cVp...</td>\n",
       "      <td>[['Musical Instruments', 'Microphones &amp; Access...</td>\n",
       "      <td>...</td>\n",
       "      <td>['jake', 'the', 'product', 'does', 'exactly', ...</td>\n",
       "      <td>en</td>\n",
       "      <td>['jake', 'the', 'product', 'does', 'exactly', ...</td>\n",
       "      <td>['jake', 'product', 'exactly', 'quite', 'affor...</td>\n",
       "      <td>[('jake', 'NN'), ('product', 'NN'), ('exactly'...</td>\n",
       "      <td>[('jake', 'n'), ('product', 'n'), ('exactly', ...</td>\n",
       "      <td>['jake', 'product', 'exactly', 'quite', 'affor...</td>\n",
       "      <td>jake product exactly quite affordable.i realiz...</td>\n",
       "      <td>2013-03-16</td>\n",
       "      <td>2013</td>\n",
       "    </tr>\n",
       "    <tr>\n",
       "      <th>2</th>\n",
       "      <td>2</td>\n",
       "      <td>A195EZSQDW3E21</td>\n",
       "      <td>1384719342</td>\n",
       "      <td>[1, 1]</td>\n",
       "      <td>5</td>\n",
       "      <td>1377648000</td>\n",
       "      <td>niceEshop Studio Microphone Mic Wind Screen Po...</td>\n",
       "      <td>7.09</td>\n",
       "      <td>http://ecx.images-amazon.com/images/I/510D2cVp...</td>\n",
       "      <td>[['Musical Instruments', 'Microphones &amp; Access...</td>\n",
       "      <td>...</td>\n",
       "      <td>['it', 'does', 'the', 'job', 'well', 'the', 'p...</td>\n",
       "      <td>en</td>\n",
       "      <td>['it', 'does', 'the', 'job', 'well', 'the', 'p...</td>\n",
       "      <td>['job', 'well', 'primary', 'job', 'device', 'b...</td>\n",
       "      <td>[('job', 'NN'), ('well', 'RB'), ('primary', 'J...</td>\n",
       "      <td>[('job', 'n'), ('well', 'r'), ('primary', 'a')...</td>\n",
       "      <td>['job', 'well', 'primary', 'job', 'device', 'b...</td>\n",
       "      <td>job well primary job device block breath would...</td>\n",
       "      <td>2013-08-28</td>\n",
       "      <td>2013</td>\n",
       "    </tr>\n",
       "    <tr>\n",
       "      <th>3</th>\n",
       "      <td>3</td>\n",
       "      <td>A2C00NNG1ZQQG2</td>\n",
       "      <td>1384719342</td>\n",
       "      <td>[0, 0]</td>\n",
       "      <td>5</td>\n",
       "      <td>1392336000</td>\n",
       "      <td>niceEshop Studio Microphone Mic Wind Screen Po...</td>\n",
       "      <td>7.09</td>\n",
       "      <td>http://ecx.images-amazon.com/images/I/510D2cVp...</td>\n",
       "      <td>[['Musical Instruments', 'Microphones &amp; Access...</td>\n",
       "      <td>...</td>\n",
       "      <td>['good', 'windscreen', 'for', 'the', 'money', ...</td>\n",
       "      <td>en</td>\n",
       "      <td>['good', 'windscreen', 'for', 'the', 'money', ...</td>\n",
       "      <td>['good', 'windscreen', 'money', 'nice', 'winds...</td>\n",
       "      <td>[('good', 'JJ'), ('windscreen', 'NN'), ('money...</td>\n",
       "      <td>[('good', 'a'), ('windscreen', 'n'), ('money',...</td>\n",
       "      <td>['good', 'windscreen', 'money', 'nice', 'winds...</td>\n",
       "      <td>good windscreen money nice windscreen protects...</td>\n",
       "      <td>2014-02-14</td>\n",
       "      <td>2014</td>\n",
       "    </tr>\n",
       "    <tr>\n",
       "      <th>4</th>\n",
       "      <td>4</td>\n",
       "      <td>A94QU4C90B1AX</td>\n",
       "      <td>1384719342</td>\n",
       "      <td>[0, 0]</td>\n",
       "      <td>5</td>\n",
       "      <td>1392940800</td>\n",
       "      <td>niceEshop Studio Microphone Mic Wind Screen Po...</td>\n",
       "      <td>7.09</td>\n",
       "      <td>http://ecx.images-amazon.com/images/I/510D2cVp...</td>\n",
       "      <td>[['Musical Instruments', 'Microphones &amp; Access...</td>\n",
       "      <td>...</td>\n",
       "      <td>['no', 'more', 'pops', 'when', 'i', 'record', ...</td>\n",
       "      <td>en</td>\n",
       "      <td>['no', 'more', 'pops', 'when', 'i', 'record', ...</td>\n",
       "      <td>['pops', 'record', 'vocals', 'pop', 'filter', ...</td>\n",
       "      <td>[('pops', 'NNS'), ('record', 'NN'), ('vocals',...</td>\n",
       "      <td>[('pops', 'n'), ('record', 'n'), ('vocals', 'n...</td>\n",
       "      <td>['pop', 'record', 'vocal', 'pop', 'filter', 'g...</td>\n",
       "      <td>pop record vocal pop filter great look perform...</td>\n",
       "      <td>2014-02-21</td>\n",
       "      <td>2014</td>\n",
       "    </tr>\n",
       "  </tbody>\n",
       "</table>\n",
       "<p>5 rows × 27 columns</p>\n",
       "</div>"
      ],
      "text/plain": [
       "   Unnamed: 0      reviewerID        asin   helpful  overall  unixReviewTime  \\\n",
       "0           0  A2IBPI20UZIR0U  1384719342    [0, 0]        5      1393545600   \n",
       "1           1  A14VAT5EAX3D9S  1384719342  [13, 14]        5      1363392000   \n",
       "2           2  A195EZSQDW3E21  1384719342    [1, 1]        5      1377648000   \n",
       "3           3  A2C00NNG1ZQQG2  1384719342    [0, 0]        5      1392336000   \n",
       "4           4   A94QU4C90B1AX  1384719342    [0, 0]        5      1392940800   \n",
       "\n",
       "                                               title  price  \\\n",
       "0  niceEshop Studio Microphone Mic Wind Screen Po...   7.09   \n",
       "1  niceEshop Studio Microphone Mic Wind Screen Po...   7.09   \n",
       "2  niceEshop Studio Microphone Mic Wind Screen Po...   7.09   \n",
       "3  niceEshop Studio Microphone Mic Wind Screen Po...   7.09   \n",
       "4  niceEshop Studio Microphone Mic Wind Screen Po...   7.09   \n",
       "\n",
       "                                               imUrl  \\\n",
       "0  http://ecx.images-amazon.com/images/I/510D2cVp...   \n",
       "1  http://ecx.images-amazon.com/images/I/510D2cVp...   \n",
       "2  http://ecx.images-amazon.com/images/I/510D2cVp...   \n",
       "3  http://ecx.images-amazon.com/images/I/510D2cVp...   \n",
       "4  http://ecx.images-amazon.com/images/I/510D2cVp...   \n",
       "\n",
       "                                          categories  ...  \\\n",
       "0  [['Musical Instruments', 'Microphones & Access...  ...   \n",
       "1  [['Musical Instruments', 'Microphones & Access...  ...   \n",
       "2  [['Musical Instruments', 'Microphones & Access...  ...   \n",
       "3  [['Musical Instruments', 'Microphones & Access...  ...   \n",
       "4  [['Musical Instruments', 'Microphones & Access...  ...   \n",
       "\n",
       "                                               lower langs  \\\n",
       "0  ['good', 'not', 'much', 'to', 'write', 'about'...    en   \n",
       "1  ['jake', 'the', 'product', 'does', 'exactly', ...    en   \n",
       "2  ['it', 'does', 'the', 'job', 'well', 'the', 'p...    en   \n",
       "3  ['good', 'windscreen', 'for', 'the', 'money', ...    en   \n",
       "4  ['no', 'more', 'pops', 'when', 'i', 'record', ...    en   \n",
       "\n",
       "                                             no_punc  \\\n",
       "0  ['good', 'not', 'much', 'to', 'write', 'about'...   \n",
       "1  ['jake', 'the', 'product', 'does', 'exactly', ...   \n",
       "2  ['it', 'does', 'the', 'job', 'well', 'the', 'p...   \n",
       "3  ['good', 'windscreen', 'for', 'the', 'money', ...   \n",
       "4  ['no', 'more', 'pops', 'when', 'i', 'record', ...   \n",
       "\n",
       "                                   stopwords_removed  \\\n",
       "0  ['good', 'much', 'write', 'exactly', 'supposed...   \n",
       "1  ['jake', 'product', 'exactly', 'quite', 'affor...   \n",
       "2  ['job', 'well', 'primary', 'job', 'device', 'b...   \n",
       "3  ['good', 'windscreen', 'money', 'nice', 'winds...   \n",
       "4  ['pops', 'record', 'vocals', 'pop', 'filter', ...   \n",
       "\n",
       "                                            pos_tags  \\\n",
       "0  [('good', 'JJ'), ('much', 'RB'), ('write', 'VB...   \n",
       "1  [('jake', 'NN'), ('product', 'NN'), ('exactly'...   \n",
       "2  [('job', 'NN'), ('well', 'RB'), ('primary', 'J...   \n",
       "3  [('good', 'JJ'), ('windscreen', 'NN'), ('money...   \n",
       "4  [('pops', 'NNS'), ('record', 'NN'), ('vocals',...   \n",
       "\n",
       "                                         wordnet_pos  \\\n",
       "0  [('good', 'a'), ('much', 'r'), ('write', 'v'),...   \n",
       "1  [('jake', 'n'), ('product', 'n'), ('exactly', ...   \n",
       "2  [('job', 'n'), ('well', 'r'), ('primary', 'a')...   \n",
       "3  [('good', 'a'), ('windscreen', 'n'), ('money',...   \n",
       "4  [('pops', 'n'), ('record', 'n'), ('vocals', 'n...   \n",
       "\n",
       "                                          lemmatized  \\\n",
       "0  ['good', 'much', 'write', 'exactly', 'suppose'...   \n",
       "1  ['jake', 'product', 'exactly', 'quite', 'affor...   \n",
       "2  ['job', 'well', 'primary', 'job', 'device', 'b...   \n",
       "3  ['good', 'windscreen', 'money', 'nice', 'winds...   \n",
       "4  ['pop', 'record', 'vocal', 'pop', 'filter', 'g...   \n",
       "\n",
       "                                           lemma_str ReviewDate ReviewYear  \n",
       "0  good much write exactly suppose filter pop sou... 2014-02-28       2014  \n",
       "1  jake product exactly quite affordable.i realiz... 2013-03-16       2013  \n",
       "2  job well primary job device block breath would... 2013-08-28       2013  \n",
       "3  good windscreen money nice windscreen protects... 2014-02-14       2014  \n",
       "4  pop record vocal pop filter great look perform... 2014-02-21       2014  \n",
       "\n",
       "[5 rows x 27 columns]"
      ]
     },
     "execution_count": 31,
     "metadata": {},
     "output_type": "execute_result"
    }
   ],
   "source": [
    "#df['date'].dt.year\n",
    "Cleanreview_df['ReviewDate'] = pd.to_datetime(Cleanreview_df['time'])\n",
    "\n",
    "Cleanreview_df['ReviewYear'] = Cleanreview_df['ReviewDate'].dt.year\n",
    "Cleanreview_df.head()\n"
   ]
  },
  {
   "cell_type": "code",
   "execution_count": 32,
   "metadata": {},
   "outputs": [
    {
     "name": "stdout",
     "output_type": "stream",
     "text": [
      "overall  ReviewYear\n",
      "1        2006             1\n",
      "         2009             2\n",
      "         2010             7\n",
      "         2011            12\n",
      "         2012            39\n",
      "         2013            66\n",
      "         2014            63\n",
      "2        2007             1\n",
      "         2008             2\n",
      "         2009             2\n",
      "         2010             9\n",
      "         2011            28\n",
      "         2012            36\n",
      "         2013            81\n",
      "         2014            70\n",
      "3        2008             7\n",
      "         2009             7\n",
      "         2010            18\n",
      "         2011            66\n",
      "         2012           112\n",
      "         2013           295\n",
      "         2014           188\n",
      "4        2004             1\n",
      "         2005             1\n",
      "         2006             2\n",
      "         2007             5\n",
      "         2008            16\n",
      "         2009            25\n",
      "         2010            75\n",
      "         2011           176\n",
      "         2012           343\n",
      "         2013           758\n",
      "         2014           488\n",
      "5        2004             5\n",
      "         2005             3\n",
      "         2006             5\n",
      "         2007            10\n",
      "         2008            32\n",
      "         2009            75\n",
      "         2010           205\n",
      "         2011           584\n",
      "         2012          1151\n",
      "         2013          2390\n",
      "         2014          1631\n",
      "dtype: int64\n"
     ]
    }
   ],
   "source": [
    " classCounts=Cleanreview_df.groupby(['overall','ReviewYear']).size()\n",
    "print(classCounts)\n",
    "\n",
    "\n"
   ]
  },
  {
   "cell_type": "code",
   "execution_count": 33,
   "metadata": {},
   "outputs": [
    {
     "data": {
      "text/html": [
       "<div>\n",
       "<style scoped>\n",
       "    .dataframe tbody tr th:only-of-type {\n",
       "        vertical-align: middle;\n",
       "    }\n",
       "\n",
       "    .dataframe tbody tr th {\n",
       "        vertical-align: top;\n",
       "    }\n",
       "\n",
       "    .dataframe thead th {\n",
       "        text-align: right;\n",
       "    }\n",
       "</style>\n",
       "<table border=\"1\" class=\"dataframe\">\n",
       "  <thead>\n",
       "    <tr style=\"text-align: right;\">\n",
       "      <th></th>\n",
       "      <th>Full_Review_str</th>\n",
       "      <th>lemma_str</th>\n",
       "      <th>Rating</th>\n",
       "    </tr>\n",
       "  </thead>\n",
       "  <tbody>\n",
       "    <tr>\n",
       "      <th>3</th>\n",
       "      <td>GOOD WINDSCREEN FOR THE MONEY Nice windscreen ...</td>\n",
       "      <td>good windscreen money nice windscreen protects...</td>\n",
       "      <td>good</td>\n",
       "    </tr>\n",
       "    <tr>\n",
       "      <th>4</th>\n",
       "      <td>No more pops when I record my vocals. This pop...</td>\n",
       "      <td>pop record vocal pop filter great look perform...</td>\n",
       "      <td>good</td>\n",
       "    </tr>\n",
       "  </tbody>\n",
       "</table>\n",
       "</div>"
      ],
      "text/plain": [
       "                                     Full_Review_str  \\\n",
       "3  GOOD WINDSCREEN FOR THE MONEY Nice windscreen ...   \n",
       "4  No more pops when I record my vocals. This pop...   \n",
       "\n",
       "                                           lemma_str Rating  \n",
       "3  good windscreen money nice windscreen protects...   good  \n",
       "4  pop record vocal pop filter great look perform...   good  "
      ]
     },
     "execution_count": 33,
     "metadata": {},
     "output_type": "execute_result"
    }
   ],
   "source": [
    "rows=[3,4]\n",
    "column=['Full_Review_str','lemma_str','Rating']\n",
    "Cleanreview_df.loc[rows,column]"
   ]
  },
  {
   "cell_type": "code",
   "execution_count": 34,
   "metadata": {},
   "outputs": [
    {
     "data": {
      "text/html": [
       "<div>\n",
       "<style scoped>\n",
       "    .dataframe tbody tr th:only-of-type {\n",
       "        vertical-align: middle;\n",
       "    }\n",
       "\n",
       "    .dataframe tbody tr th {\n",
       "        vertical-align: top;\n",
       "    }\n",
       "\n",
       "    .dataframe thead th {\n",
       "        text-align: right;\n",
       "    }\n",
       "</style>\n",
       "<table border=\"1\" class=\"dataframe\">\n",
       "  <thead>\n",
       "    <tr style=\"text-align: right;\">\n",
       "      <th></th>\n",
       "      <th>ReviewerID</th>\n",
       "      <th>overall</th>\n",
       "    </tr>\n",
       "  </thead>\n",
       "  <tbody>\n",
       "    <tr>\n",
       "      <th>0</th>\n",
       "      <td>-2.142860</td>\n",
       "      <td>2</td>\n",
       "    </tr>\n",
       "    <tr>\n",
       "      <th>1</th>\n",
       "      <td>0.844295</td>\n",
       "      <td>1</td>\n",
       "    </tr>\n",
       "    <tr>\n",
       "      <th>2</th>\n",
       "      <td>0.417840</td>\n",
       "      <td>3</td>\n",
       "    </tr>\n",
       "    <tr>\n",
       "      <th>3</th>\n",
       "      <td>0.073343</td>\n",
       "      <td>1</td>\n",
       "    </tr>\n",
       "    <tr>\n",
       "      <th>4</th>\n",
       "      <td>0.845326</td>\n",
       "      <td>3</td>\n",
       "    </tr>\n",
       "  </tbody>\n",
       "</table>\n",
       "</div>"
      ],
      "text/plain": [
       "   ReviewerID  overall\n",
       "0   -2.142860        2\n",
       "1    0.844295        1\n",
       "2    0.417840        3\n",
       "3    0.073343        1\n",
       "4    0.845326        3"
      ]
     },
     "execution_count": 34,
     "metadata": {},
     "output_type": "execute_result"
    }
   ],
   "source": [
    "Balanced2014Review= pd.DataFrame({'ReviewerID':np.random.randn(1000), 'overall':np.random.randint(low = 1, high = 5, size=1000)})\n",
    "\n",
    "Balanced2014Review.groupby(['overall']).size()\n",
    "Balanced2014Review.head()"
   ]
  },
  {
   "cell_type": "code",
   "execution_count": 35,
   "metadata": {},
   "outputs": [
    {
     "name": "stdout",
     "output_type": "stream",
     "text": [
      "Requirement already satisfied: imblearn in /opt/conda/lib/python3.7/site-packages (0.0)\n",
      "Requirement already satisfied: imbalanced-learn in /opt/conda/lib/python3.7/site-packages (from imblearn) (0.8.0)\n",
      "Requirement already satisfied: joblib>=0.11 in /opt/conda/lib/python3.7/site-packages (from imbalanced-learn->imblearn) (0.15.1)\n",
      "Requirement already satisfied: numpy>=1.13.3 in /opt/conda/lib/python3.7/site-packages (from imbalanced-learn->imblearn) (1.18.4)\n",
      "Requirement already satisfied: scikit-learn>=0.24 in /opt/conda/lib/python3.7/site-packages (from imbalanced-learn->imblearn) (0.24.1)\n",
      "Requirement already satisfied: scipy>=0.19.1 in /opt/conda/lib/python3.7/site-packages (from imbalanced-learn->imblearn) (1.4.1)\n",
      "Requirement already satisfied: threadpoolctl>=2.0.0 in /opt/conda/lib/python3.7/site-packages (from scikit-learn>=0.24->imbalanced-learn->imblearn) (2.1.0)\n",
      "Note: you may need to restart the kernel to use updated packages.\n"
     ]
    }
   ],
   "source": [
    "pip install imblearn"
   ]
  },
  {
   "cell_type": "code",
   "execution_count": 36,
   "metadata": {},
   "outputs": [
    {
     "name": "stdout",
     "output_type": "stream",
     "text": [
      "Requirement already satisfied: catboost in /opt/conda/lib/python3.7/site-packages (0.24.4)\n",
      "Requirement already satisfied: pandas>=0.24.0 in /opt/conda/lib/python3.7/site-packages (from catboost) (1.0.3)\n",
      "Requirement already satisfied: matplotlib in /opt/conda/lib/python3.7/site-packages (from catboost) (3.2.1)\n",
      "Requirement already satisfied: scipy in /opt/conda/lib/python3.7/site-packages (from catboost) (1.4.1)\n",
      "Requirement already satisfied: six in /opt/conda/lib/python3.7/site-packages (from catboost) (1.14.0)\n",
      "Requirement already satisfied: plotly in /opt/conda/lib/python3.7/site-packages (from catboost) (4.14.3)\n",
      "Requirement already satisfied: numpy>=1.16.0 in /opt/conda/lib/python3.7/site-packages (from catboost) (1.18.4)\n",
      "Requirement already satisfied: graphviz in /opt/conda/lib/python3.7/site-packages (from catboost) (0.16)\n",
      "Requirement already satisfied: python-dateutil>=2.6.1 in /opt/conda/lib/python3.7/site-packages (from pandas>=0.24.0->catboost) (2.8.1)\n",
      "Requirement already satisfied: pytz>=2017.2 in /opt/conda/lib/python3.7/site-packages (from pandas>=0.24.0->catboost) (2020.1)\n",
      "Requirement already satisfied: cycler>=0.10 in /opt/conda/lib/python3.7/site-packages (from matplotlib->catboost) (0.10.0)\n",
      "Requirement already satisfied: kiwisolver>=1.0.1 in /opt/conda/lib/python3.7/site-packages (from matplotlib->catboost) (1.2.0)\n",
      "Requirement already satisfied: pyparsing!=2.0.4,!=2.1.2,!=2.1.6,>=2.0.1 in /opt/conda/lib/python3.7/site-packages (from matplotlib->catboost) (2.4.7)\n",
      "Requirement already satisfied: retrying>=1.3.3 in /opt/conda/lib/python3.7/site-packages (from plotly->catboost) (1.3.3)\n",
      "Note: you may need to restart the kernel to use updated packages.\n"
     ]
    }
   ],
   "source": [
    "pip install catboost"
   ]
  },
  {
   "cell_type": "code",
   "execution_count": 37,
   "metadata": {},
   "outputs": [
    {
     "name": "stdout",
     "output_type": "stream",
     "text": [
      "<class 'pandas.core.frame.DataFrame'>\n",
      "RangeIndex: 9093 entries, 0 to 9092\n",
      "Data columns (total 27 columns):\n",
      " #   Column             Non-Null Count  Dtype         \n",
      "---  ------             --------------  -----         \n",
      " 0   Unnamed: 0         9093 non-null   int64         \n",
      " 1   reviewerID         9093 non-null   object        \n",
      " 2   asin               9093 non-null   object        \n",
      " 3   helpful            9093 non-null   object        \n",
      " 4   overall            9093 non-null   int64         \n",
      " 5   unixReviewTime     9093 non-null   int64         \n",
      " 6   title              9093 non-null   object        \n",
      " 7   price              9093 non-null   float64       \n",
      " 8   imUrl              9093 non-null   object        \n",
      " 9   categories         9093 non-null   object        \n",
      " 10  brand              9093 non-null   object        \n",
      " 11  Full Review        9093 non-null   object        \n",
      " 12  Rating             9093 non-null   object        \n",
      " 13  time               9093 non-null   object        \n",
      " 14  contracted         9093 non-null   object        \n",
      " 15  Full_Review_str    9093 non-null   object        \n",
      " 16  tokenized          9093 non-null   object        \n",
      " 17  lower              9093 non-null   object        \n",
      " 18  langs              9093 non-null   object        \n",
      " 19  no_punc            9093 non-null   object        \n",
      " 20  stopwords_removed  9093 non-null   object        \n",
      " 21  pos_tags           9093 non-null   object        \n",
      " 22  wordnet_pos        9093 non-null   object        \n",
      " 23  lemmatized         9093 non-null   object        \n",
      " 24  lemma_str          9093 non-null   object        \n",
      " 25  ReviewDate         9093 non-null   datetime64[ns]\n",
      " 26  ReviewYear         9093 non-null   int64         \n",
      "dtypes: datetime64[ns](1), float64(1), int64(4), object(21)\n",
      "memory usage: 1.9+ MB\n"
     ]
    }
   ],
   "source": [
    "Cleanreview_df.info()"
   ]
  },
  {
   "cell_type": "code",
   "execution_count": 38,
   "metadata": {},
   "outputs": [],
   "source": [
    "Cleanreview_df.isnull().sum()\n",
    "\n",
    "Cleanreview_df=Cleanreview_df.dropna(subset=['lemma_str'])"
   ]
  },
  {
   "cell_type": "code",
   "execution_count": 39,
   "metadata": {},
   "outputs": [
    {
     "data": {
      "text/plain": [
       "Unnamed: 0           0\n",
       "reviewerID           0\n",
       "asin                 0\n",
       "helpful              0\n",
       "overall              0\n",
       "unixReviewTime       0\n",
       "title                0\n",
       "price                0\n",
       "imUrl                0\n",
       "categories           0\n",
       "brand                0\n",
       "Full Review          0\n",
       "Rating               0\n",
       "time                 0\n",
       "contracted           0\n",
       "Full_Review_str      0\n",
       "tokenized            0\n",
       "lower                0\n",
       "langs                0\n",
       "no_punc              0\n",
       "stopwords_removed    0\n",
       "pos_tags             0\n",
       "wordnet_pos          0\n",
       "lemmatized           0\n",
       "lemma_str            0\n",
       "ReviewDate           0\n",
       "ReviewYear           0\n",
       "dtype: int64"
      ]
     },
     "execution_count": 39,
     "metadata": {},
     "output_type": "execute_result"
    }
   ],
   "source": [
    "Cleanreview_df.isnull().sum()"
   ]
  },
  {
   "cell_type": "code",
   "execution_count": 40,
   "metadata": {},
   "outputs": [
    {
     "name": "stdout",
     "output_type": "stream",
     "text": [
      "False\n"
     ]
    }
   ],
   "source": [
    "contains_digit = any(map(str.isdigit, Cleanreview_df['Rating']))\n",
    "print(contains_digit) "
   ]
  },
  {
   "cell_type": "code",
   "execution_count": 41,
   "metadata": {},
   "outputs": [
    {
     "name": "stdout",
     "output_type": "stream",
     "text": [
      "Requirement already satisfied: xgboost in /opt/conda/lib/python3.7/site-packages (1.3.3)\n",
      "Requirement already satisfied: numpy in /opt/conda/lib/python3.7/site-packages (from xgboost) (1.18.4)\n",
      "Requirement already satisfied: scipy in /opt/conda/lib/python3.7/site-packages (from xgboost) (1.4.1)\n",
      "Note: you may need to restart the kernel to use updated packages.\n"
     ]
    }
   ],
   "source": [
    "pip install xgboost"
   ]
  },
  {
   "cell_type": "code",
   "execution_count": 42,
   "metadata": {},
   "outputs": [
    {
     "name": "stdout",
     "output_type": "stream",
     "text": [
      "Requirement already satisfied: gensim in /opt/conda/lib/python3.7/site-packages (3.8.3)\n",
      "Requirement already satisfied: numpy>=1.11.3 in /opt/conda/lib/python3.7/site-packages (from gensim) (1.18.4)\n",
      "Requirement already satisfied: scipy>=0.18.1 in /opt/conda/lib/python3.7/site-packages (from gensim) (1.4.1)\n",
      "Requirement already satisfied: smart-open>=1.8.1 in /opt/conda/lib/python3.7/site-packages (from gensim) (4.2.0)\n",
      "Requirement already satisfied: six>=1.5.0 in /opt/conda/lib/python3.7/site-packages (from gensim) (1.14.0)\n",
      "Note: you may need to restart the kernel to use updated packages.\n"
     ]
    }
   ],
   "source": [
    "pip install gensim\n"
   ]
  },
  {
   "cell_type": "code",
   "execution_count": 47,
   "metadata": {},
   "outputs": [
    {
     "name": "stdout",
     "output_type": "stream",
     "text": [
      "Requirement already satisfied: imbalanced-learn in /opt/conda/lib/python3.7/site-packages (0.8.0)\n",
      "Requirement already satisfied: scipy>=0.19.1 in /opt/conda/lib/python3.7/site-packages (from imbalanced-learn) (1.4.1)\n",
      "Requirement already satisfied: scikit-learn>=0.24 in /opt/conda/lib/python3.7/site-packages (from imbalanced-learn) (0.24.1)\n",
      "Requirement already satisfied: joblib>=0.11 in /opt/conda/lib/python3.7/site-packages (from imbalanced-learn) (0.15.1)\n",
      "Requirement already satisfied: numpy>=1.13.3 in /opt/conda/lib/python3.7/site-packages (from imbalanced-learn) (1.18.4)\n",
      "Requirement already satisfied: threadpoolctl>=2.0.0 in /opt/conda/lib/python3.7/site-packages (from scikit-learn>=0.24->imbalanced-learn) (2.1.0)\n",
      "Note: you may need to restart the kernel to use updated packages.\n"
     ]
    }
   ],
   "source": [
    "\n",
    "pip install imbalanced-learn\n"
   ]
  },
  {
   "cell_type": "code",
   "execution_count": 50,
   "metadata": {},
   "outputs": [
    {
     "name": "stdout",
     "output_type": "stream",
     "text": [
      "Requirement already satisfied: scikit-learn in /opt/conda/lib/python3.7/site-packages (0.24.1)\n",
      "Requirement already satisfied: scipy>=0.19.1 in /opt/conda/lib/python3.7/site-packages (from scikit-learn) (1.4.1)\n",
      "Requirement already satisfied: joblib>=0.11 in /opt/conda/lib/python3.7/site-packages (from scikit-learn) (0.15.1)\n",
      "Requirement already satisfied: threadpoolctl>=2.0.0 in /opt/conda/lib/python3.7/site-packages (from scikit-learn) (2.1.0)\n",
      "Requirement already satisfied: numpy>=1.13.3 in /opt/conda/lib/python3.7/site-packages (from scikit-learn) (1.18.4)\n",
      "Note: you may need to restart the kernel to use updated packages.\n"
     ]
    }
   ],
   "source": [
    "pip install scikit-learn"
   ]
  },
  {
   "cell_type": "code",
   "execution_count": 51,
   "metadata": {},
   "outputs": [
    {
     "ename": "ImportError",
     "evalue": "cannot import name 'delayed' from 'sklearn.utils.fixes' (/opt/conda/lib/python3.7/site-packages/sklearn/utils/fixes.py)",
     "output_type": "error",
     "traceback": [
      "\u001b[0;31m---------------------------------------------------------------------------\u001b[0m",
      "\u001b[0;31mImportError\u001b[0m                               Traceback (most recent call last)",
      "\u001b[0;32m<ipython-input-51-85c917202ab6>\u001b[0m in \u001b[0;36m<module>\u001b[0;34m\u001b[0m\n\u001b[1;32m      1\u001b[0m \u001b[0;31m#sampling with SMOTE\u001b[0m\u001b[0;34m\u001b[0m\u001b[0;34m\u001b[0m\u001b[0;34m\u001b[0m\u001b[0m\n\u001b[0;32m----> 2\u001b[0;31m \u001b[0;32mfrom\u001b[0m \u001b[0mimblearn\u001b[0m\u001b[0;34m.\u001b[0m\u001b[0mover_sampling\u001b[0m \u001b[0;32mimport\u001b[0m \u001b[0mSMOTE\u001b[0m\u001b[0;34m\u001b[0m\u001b[0;34m\u001b[0m\u001b[0m\n\u001b[0m\u001b[1;32m      3\u001b[0m \u001b[0;32mfrom\u001b[0m \u001b[0mcollections\u001b[0m \u001b[0;32mimport\u001b[0m \u001b[0mCounter\u001b[0m\u001b[0;34m\u001b[0m\u001b[0;34m\u001b[0m\u001b[0m\n\u001b[1;32m      4\u001b[0m \u001b[0;32mfrom\u001b[0m \u001b[0mmatplotlib\u001b[0m \u001b[0;32mimport\u001b[0m \u001b[0mpyplot\u001b[0m\u001b[0;34m\u001b[0m\u001b[0;34m\u001b[0m\u001b[0m\n\u001b[1;32m      5\u001b[0m \u001b[0;32mfrom\u001b[0m \u001b[0msklearn\u001b[0m\u001b[0;34m.\u001b[0m\u001b[0mpreprocessing\u001b[0m \u001b[0;32mimport\u001b[0m \u001b[0mLabelEncoder\u001b[0m\u001b[0;34m\u001b[0m\u001b[0;34m\u001b[0m\u001b[0m\n",
      "\u001b[0;32m/opt/conda/lib/python3.7/site-packages/imblearn/__init__.py\u001b[0m in \u001b[0;36m<module>\u001b[0;34m\u001b[0m\n\u001b[1;32m     35\u001b[0m \u001b[0;32mimport\u001b[0m \u001b[0mtypes\u001b[0m\u001b[0;34m\u001b[0m\u001b[0;34m\u001b[0m\u001b[0m\n\u001b[1;32m     36\u001b[0m \u001b[0;34m\u001b[0m\u001b[0m\n\u001b[0;32m---> 37\u001b[0;31m \u001b[0;32mfrom\u001b[0m \u001b[0;34m.\u001b[0m \u001b[0;32mimport\u001b[0m \u001b[0mcombine\u001b[0m\u001b[0;34m\u001b[0m\u001b[0;34m\u001b[0m\u001b[0m\n\u001b[0m\u001b[1;32m     38\u001b[0m \u001b[0;32mfrom\u001b[0m \u001b[0;34m.\u001b[0m \u001b[0;32mimport\u001b[0m \u001b[0mensemble\u001b[0m\u001b[0;34m\u001b[0m\u001b[0;34m\u001b[0m\u001b[0m\n\u001b[1;32m     39\u001b[0m \u001b[0;32mfrom\u001b[0m \u001b[0;34m.\u001b[0m \u001b[0;32mimport\u001b[0m \u001b[0mexceptions\u001b[0m\u001b[0;34m\u001b[0m\u001b[0;34m\u001b[0m\u001b[0m\n",
      "\u001b[0;32m/opt/conda/lib/python3.7/site-packages/imblearn/combine/__init__.py\u001b[0m in \u001b[0;36m<module>\u001b[0;34m\u001b[0m\n\u001b[1;32m      3\u001b[0m \"\"\"\n\u001b[1;32m      4\u001b[0m \u001b[0;34m\u001b[0m\u001b[0m\n\u001b[0;32m----> 5\u001b[0;31m \u001b[0;32mfrom\u001b[0m \u001b[0;34m.\u001b[0m\u001b[0m_smote_enn\u001b[0m \u001b[0;32mimport\u001b[0m \u001b[0mSMOTEENN\u001b[0m\u001b[0;34m\u001b[0m\u001b[0;34m\u001b[0m\u001b[0m\n\u001b[0m\u001b[1;32m      6\u001b[0m \u001b[0;32mfrom\u001b[0m \u001b[0;34m.\u001b[0m\u001b[0m_smote_tomek\u001b[0m \u001b[0;32mimport\u001b[0m \u001b[0mSMOTETomek\u001b[0m\u001b[0;34m\u001b[0m\u001b[0;34m\u001b[0m\u001b[0m\n\u001b[1;32m      7\u001b[0m \u001b[0;34m\u001b[0m\u001b[0m\n",
      "\u001b[0;32m/opt/conda/lib/python3.7/site-packages/imblearn/combine/_smote_enn.py\u001b[0m in \u001b[0;36m<module>\u001b[0;34m\u001b[0m\n\u001b[1;32m      8\u001b[0m \u001b[0;32mfrom\u001b[0m \u001b[0msklearn\u001b[0m\u001b[0;34m.\u001b[0m\u001b[0mutils\u001b[0m \u001b[0;32mimport\u001b[0m \u001b[0mcheck_X_y\u001b[0m\u001b[0;34m\u001b[0m\u001b[0;34m\u001b[0m\u001b[0m\n\u001b[1;32m      9\u001b[0m \u001b[0;34m\u001b[0m\u001b[0m\n\u001b[0;32m---> 10\u001b[0;31m \u001b[0;32mfrom\u001b[0m \u001b[0;34m.\u001b[0m\u001b[0;34m.\u001b[0m\u001b[0mbase\u001b[0m \u001b[0;32mimport\u001b[0m \u001b[0mBaseSampler\u001b[0m\u001b[0;34m\u001b[0m\u001b[0;34m\u001b[0m\u001b[0m\n\u001b[0m\u001b[1;32m     11\u001b[0m \u001b[0;32mfrom\u001b[0m \u001b[0;34m.\u001b[0m\u001b[0;34m.\u001b[0m\u001b[0mover_sampling\u001b[0m \u001b[0;32mimport\u001b[0m \u001b[0mSMOTE\u001b[0m\u001b[0;34m\u001b[0m\u001b[0;34m\u001b[0m\u001b[0m\n\u001b[1;32m     12\u001b[0m \u001b[0;32mfrom\u001b[0m \u001b[0;34m.\u001b[0m\u001b[0;34m.\u001b[0m\u001b[0mover_sampling\u001b[0m\u001b[0;34m.\u001b[0m\u001b[0mbase\u001b[0m \u001b[0;32mimport\u001b[0m \u001b[0mBaseOverSampler\u001b[0m\u001b[0;34m\u001b[0m\u001b[0;34m\u001b[0m\u001b[0m\n",
      "\u001b[0;32m/opt/conda/lib/python3.7/site-packages/imblearn/base.py\u001b[0m in \u001b[0;36m<module>\u001b[0;34m\u001b[0m\n\u001b[1;32m     13\u001b[0m \u001b[0;32mfrom\u001b[0m \u001b[0msklearn\u001b[0m\u001b[0;34m.\u001b[0m\u001b[0mutils\u001b[0m\u001b[0;34m.\u001b[0m\u001b[0mmulticlass\u001b[0m \u001b[0;32mimport\u001b[0m \u001b[0mcheck_classification_targets\u001b[0m\u001b[0;34m\u001b[0m\u001b[0;34m\u001b[0m\u001b[0m\n\u001b[1;32m     14\u001b[0m \u001b[0;34m\u001b[0m\u001b[0m\n\u001b[0;32m---> 15\u001b[0;31m \u001b[0;32mfrom\u001b[0m \u001b[0;34m.\u001b[0m\u001b[0mutils\u001b[0m \u001b[0;32mimport\u001b[0m \u001b[0mcheck_sampling_strategy\u001b[0m\u001b[0;34m,\u001b[0m \u001b[0mcheck_target_type\u001b[0m\u001b[0;34m\u001b[0m\u001b[0;34m\u001b[0m\u001b[0m\n\u001b[0m\u001b[1;32m     16\u001b[0m \u001b[0;32mfrom\u001b[0m \u001b[0;34m.\u001b[0m\u001b[0mutils\u001b[0m\u001b[0;34m.\u001b[0m\u001b[0m_validation\u001b[0m \u001b[0;32mimport\u001b[0m \u001b[0mArraysTransformer\u001b[0m\u001b[0;34m\u001b[0m\u001b[0;34m\u001b[0m\u001b[0m\n\u001b[1;32m     17\u001b[0m \u001b[0;32mfrom\u001b[0m \u001b[0;34m.\u001b[0m\u001b[0mutils\u001b[0m\u001b[0;34m.\u001b[0m\u001b[0m_validation\u001b[0m \u001b[0;32mimport\u001b[0m \u001b[0m_deprecate_positional_args\u001b[0m\u001b[0;34m\u001b[0m\u001b[0;34m\u001b[0m\u001b[0m\n",
      "\u001b[0;32m/opt/conda/lib/python3.7/site-packages/imblearn/utils/__init__.py\u001b[0m in \u001b[0;36m<module>\u001b[0;34m\u001b[0m\n\u001b[1;32m      5\u001b[0m \u001b[0;32mfrom\u001b[0m \u001b[0;34m.\u001b[0m\u001b[0m_docstring\u001b[0m \u001b[0;32mimport\u001b[0m \u001b[0mSubstitution\u001b[0m\u001b[0;34m\u001b[0m\u001b[0;34m\u001b[0m\u001b[0m\n\u001b[1;32m      6\u001b[0m \u001b[0;34m\u001b[0m\u001b[0m\n\u001b[0;32m----> 7\u001b[0;31m \u001b[0;32mfrom\u001b[0m \u001b[0;34m.\u001b[0m\u001b[0m_validation\u001b[0m \u001b[0;32mimport\u001b[0m \u001b[0mcheck_neighbors_object\u001b[0m\u001b[0;34m\u001b[0m\u001b[0;34m\u001b[0m\u001b[0m\n\u001b[0m\u001b[1;32m      8\u001b[0m \u001b[0;32mfrom\u001b[0m \u001b[0;34m.\u001b[0m\u001b[0m_validation\u001b[0m \u001b[0;32mimport\u001b[0m \u001b[0mcheck_target_type\u001b[0m\u001b[0;34m\u001b[0m\u001b[0;34m\u001b[0m\u001b[0m\n\u001b[1;32m      9\u001b[0m \u001b[0;32mfrom\u001b[0m \u001b[0;34m.\u001b[0m\u001b[0m_validation\u001b[0m \u001b[0;32mimport\u001b[0m \u001b[0mcheck_sampling_strategy\u001b[0m\u001b[0;34m\u001b[0m\u001b[0;34m\u001b[0m\u001b[0m\n",
      "\u001b[0;32m/opt/conda/lib/python3.7/site-packages/imblearn/utils/_validation.py\u001b[0m in \u001b[0;36m<module>\u001b[0;34m\u001b[0m\n\u001b[1;32m     13\u001b[0m \u001b[0;34m\u001b[0m\u001b[0m\n\u001b[1;32m     14\u001b[0m \u001b[0;32mfrom\u001b[0m \u001b[0msklearn\u001b[0m\u001b[0;34m.\u001b[0m\u001b[0mbase\u001b[0m \u001b[0;32mimport\u001b[0m \u001b[0mclone\u001b[0m\u001b[0;34m\u001b[0m\u001b[0;34m\u001b[0m\u001b[0m\n\u001b[0;32m---> 15\u001b[0;31m \u001b[0;32mfrom\u001b[0m \u001b[0msklearn\u001b[0m\u001b[0;34m.\u001b[0m\u001b[0mneighbors\u001b[0m\u001b[0;34m.\u001b[0m\u001b[0m_base\u001b[0m \u001b[0;32mimport\u001b[0m \u001b[0mKNeighborsMixin\u001b[0m\u001b[0;34m\u001b[0m\u001b[0;34m\u001b[0m\u001b[0m\n\u001b[0m\u001b[1;32m     16\u001b[0m \u001b[0;32mfrom\u001b[0m \u001b[0msklearn\u001b[0m\u001b[0;34m.\u001b[0m\u001b[0mneighbors\u001b[0m \u001b[0;32mimport\u001b[0m \u001b[0mNearestNeighbors\u001b[0m\u001b[0;34m\u001b[0m\u001b[0;34m\u001b[0m\u001b[0m\n\u001b[1;32m     17\u001b[0m \u001b[0;32mfrom\u001b[0m \u001b[0msklearn\u001b[0m\u001b[0;34m.\u001b[0m\u001b[0mutils\u001b[0m \u001b[0;32mimport\u001b[0m \u001b[0mcolumn_or_1d\u001b[0m\u001b[0;34m\u001b[0m\u001b[0;34m\u001b[0m\u001b[0m\n",
      "\u001b[0;32m/opt/conda/lib/python3.7/site-packages/sklearn/neighbors/__init__.py\u001b[0m in \u001b[0;36m<module>\u001b[0;34m\u001b[0m\n\u001b[1;32m      7\u001b[0m \u001b[0;32mfrom\u001b[0m \u001b[0;34m.\u001b[0m\u001b[0m_kd_tree\u001b[0m \u001b[0;32mimport\u001b[0m \u001b[0mKDTree\u001b[0m\u001b[0;34m\u001b[0m\u001b[0;34m\u001b[0m\u001b[0m\n\u001b[1;32m      8\u001b[0m \u001b[0;32mfrom\u001b[0m \u001b[0;34m.\u001b[0m\u001b[0m_dist_metrics\u001b[0m \u001b[0;32mimport\u001b[0m \u001b[0mDistanceMetric\u001b[0m\u001b[0;34m\u001b[0m\u001b[0;34m\u001b[0m\u001b[0m\n\u001b[0;32m----> 9\u001b[0;31m \u001b[0;32mfrom\u001b[0m \u001b[0;34m.\u001b[0m\u001b[0m_graph\u001b[0m \u001b[0;32mimport\u001b[0m \u001b[0mkneighbors_graph\u001b[0m\u001b[0;34m,\u001b[0m \u001b[0mradius_neighbors_graph\u001b[0m\u001b[0;34m\u001b[0m\u001b[0;34m\u001b[0m\u001b[0m\n\u001b[0m\u001b[1;32m     10\u001b[0m \u001b[0;32mfrom\u001b[0m \u001b[0;34m.\u001b[0m\u001b[0m_graph\u001b[0m \u001b[0;32mimport\u001b[0m \u001b[0mKNeighborsTransformer\u001b[0m\u001b[0;34m,\u001b[0m \u001b[0mRadiusNeighborsTransformer\u001b[0m\u001b[0;34m\u001b[0m\u001b[0;34m\u001b[0m\u001b[0m\n\u001b[1;32m     11\u001b[0m \u001b[0;32mfrom\u001b[0m \u001b[0;34m.\u001b[0m\u001b[0m_unsupervised\u001b[0m \u001b[0;32mimport\u001b[0m \u001b[0mNearestNeighbors\u001b[0m\u001b[0;34m\u001b[0m\u001b[0;34m\u001b[0m\u001b[0m\n",
      "\u001b[0;32m/opt/conda/lib/python3.7/site-packages/sklearn/neighbors/_graph.py\u001b[0m in \u001b[0;36m<module>\u001b[0;34m\u001b[0m\n\u001b[1;32m      5\u001b[0m \u001b[0;31m#\u001b[0m\u001b[0;34m\u001b[0m\u001b[0;34m\u001b[0m\u001b[0;34m\u001b[0m\u001b[0m\n\u001b[1;32m      6\u001b[0m \u001b[0;31m# License: BSD 3 clause (C) INRIA, University of Amsterdam\u001b[0m\u001b[0;34m\u001b[0m\u001b[0;34m\u001b[0m\u001b[0;34m\u001b[0m\u001b[0m\n\u001b[0;32m----> 7\u001b[0;31m \u001b[0;32mfrom\u001b[0m \u001b[0;34m.\u001b[0m\u001b[0m_base\u001b[0m \u001b[0;32mimport\u001b[0m \u001b[0mKNeighborsMixin\u001b[0m\u001b[0;34m,\u001b[0m \u001b[0mRadiusNeighborsMixin\u001b[0m\u001b[0;34m\u001b[0m\u001b[0;34m\u001b[0m\u001b[0m\n\u001b[0m\u001b[1;32m      8\u001b[0m \u001b[0;32mfrom\u001b[0m \u001b[0;34m.\u001b[0m\u001b[0m_base\u001b[0m \u001b[0;32mimport\u001b[0m \u001b[0mNeighborsBase\u001b[0m\u001b[0;34m\u001b[0m\u001b[0;34m\u001b[0m\u001b[0m\n\u001b[1;32m      9\u001b[0m \u001b[0;32mfrom\u001b[0m \u001b[0;34m.\u001b[0m\u001b[0m_unsupervised\u001b[0m \u001b[0;32mimport\u001b[0m \u001b[0mNearestNeighbors\u001b[0m\u001b[0;34m\u001b[0m\u001b[0;34m\u001b[0m\u001b[0m\n",
      "\u001b[0;32m/opt/conda/lib/python3.7/site-packages/sklearn/neighbors/_base.py\u001b[0m in \u001b[0;36m<module>\u001b[0;34m\u001b[0m\n\u001b[1;32m     33\u001b[0m \u001b[0;32mfrom\u001b[0m \u001b[0;34m.\u001b[0m\u001b[0;34m.\u001b[0m\u001b[0mutils\u001b[0m\u001b[0;34m.\u001b[0m\u001b[0mvalidation\u001b[0m \u001b[0;32mimport\u001b[0m \u001b[0mcheck_is_fitted\u001b[0m\u001b[0;34m\u001b[0m\u001b[0;34m\u001b[0m\u001b[0m\n\u001b[1;32m     34\u001b[0m \u001b[0;32mfrom\u001b[0m \u001b[0;34m.\u001b[0m\u001b[0;34m.\u001b[0m\u001b[0mutils\u001b[0m\u001b[0;34m.\u001b[0m\u001b[0mvalidation\u001b[0m \u001b[0;32mimport\u001b[0m \u001b[0mcheck_non_negative\u001b[0m\u001b[0;34m\u001b[0m\u001b[0;34m\u001b[0m\u001b[0m\n\u001b[0;32m---> 35\u001b[0;31m \u001b[0;32mfrom\u001b[0m \u001b[0;34m.\u001b[0m\u001b[0;34m.\u001b[0m\u001b[0mutils\u001b[0m\u001b[0;34m.\u001b[0m\u001b[0mfixes\u001b[0m \u001b[0;32mimport\u001b[0m \u001b[0mdelayed\u001b[0m\u001b[0;34m\u001b[0m\u001b[0;34m\u001b[0m\u001b[0m\n\u001b[0m\u001b[1;32m     36\u001b[0m \u001b[0;32mfrom\u001b[0m \u001b[0;34m.\u001b[0m\u001b[0;34m.\u001b[0m\u001b[0mutils\u001b[0m\u001b[0;34m.\u001b[0m\u001b[0mfixes\u001b[0m \u001b[0;32mimport\u001b[0m \u001b[0mparse_version\u001b[0m\u001b[0;34m\u001b[0m\u001b[0;34m\u001b[0m\u001b[0m\n\u001b[1;32m     37\u001b[0m \u001b[0;32mfrom\u001b[0m \u001b[0;34m.\u001b[0m\u001b[0;34m.\u001b[0m\u001b[0mexceptions\u001b[0m \u001b[0;32mimport\u001b[0m \u001b[0mDataConversionWarning\u001b[0m\u001b[0;34m,\u001b[0m \u001b[0mEfficiencyWarning\u001b[0m\u001b[0;34m\u001b[0m\u001b[0;34m\u001b[0m\u001b[0m\n",
      "\u001b[0;31mImportError\u001b[0m: cannot import name 'delayed' from 'sklearn.utils.fixes' (/opt/conda/lib/python3.7/site-packages/sklearn/utils/fixes.py)"
     ]
    }
   ],
   "source": [
    "#sampling with SMOTE\n",
    "from imblearn.over_sampling import SMOTE\n",
    "from collections import Counter\n",
    "from matplotlib import pyplot\n",
    "from sklearn.preprocessing import LabelEncoder\n",
    "\n",
    "from sklearn.model_selection import cross_validate\n",
    "from sklearn.model_selection import train_test_split\n",
    "from sklearn.model_selection import StratifiedKFold\n",
    "from sklearn.model_selection import GridSearchCV\n",
    "from sklearn.model_selection import cross_val_predict\n",
    "from sklearn.model_selection import cross_val_score\n",
    "from sklearn.linear_model import LogisticRegression\n",
    "from sklearn.model_selection import learning_curve\n",
    "from sklearn.ensemble import ExtraTreesClassifier\n",
    "from sklearn.decomposition import TruncatedSVD\n",
    "from sklearn.feature_extraction.text import TfidfVectorizer, CountVectorizer, HashingVectorizer\n",
    "from sklearn.pipeline import Pipeline\n",
    "from sklearn.naive_bayes import MultinomialNB\n",
    "from catboost import CatBoostClassifier, Pool\n",
    "from sklearn.naive_bayes import GaussianNB \n",
    "from sklearn.svm import SVC\n",
    "from sklearn import metrics\n",
    "from sklearn.metrics import classification_report\n",
    "from sklearn.metrics import confusion_matrix\n",
    "from  sklearn.metrics import precision_recall_fscore_support\n",
    "from sklearn.ensemble import RandomForestClassifier\n",
    "from sklearn.tree import DecisionTreeClassifier\n",
    "from sklearn.metrics import f1_score\n",
    "from sklearn.metrics import recall_score\n",
    "from gensim.models import Word2Vec\n",
    "from tqdm import tqdm\n",
    "import xgboost as xgb\n",
    "from xgboost import XGBClassifier\n",
    "from sklearn.dummy import DummyClassifier\n",
    "# define the dataset location\n",
    "\n",
    "X = Cleanreview_df['lemma_str']\n",
    "y = Cleanreview_df['overall']\n",
    "\n",
    "\n",
    "from sklearn.feature_extraction.text import TfidfVectorizer\n",
    "vec = TfidfVectorizer()\n",
    "X = vec.fit_transform(X)\n",
    "\n",
    "#X_train, X_test, y_train, y_test = train_test_split(X, y, test_size=0.30, random_state=42)\n",
    "x_train, x_val, y_train, y_val = train_test_split(X, y,train_size=6365,\n",
    "                                                  test_size = 2728,\n",
    "                                                  random_state=12)\n",
    "\n",
    "'''\n",
    "from imblearn.over_sampling import SMOTE \n",
    "sm = SMOTE(k_neighbors=1, random_state = 2) \n",
    "X_train_res, y_train_res = sm.fit_sample(X, df.labels) \n",
    "'''\n",
    "\n",
    "sm = SMOTE(random_state=12)\n",
    "x_train_res, y_train_res = sm.fit_resample(x_train, y_train)\n"
   ]
  },
  {
   "cell_type": "code",
   "execution_count": 26,
   "metadata": {},
   "outputs": [
    {
     "ename": "NameError",
     "evalue": "name 'sm' is not defined",
     "output_type": "error",
     "traceback": [
      "\u001b[0;31m---------------------------------------------------------------------------\u001b[0m",
      "\u001b[0;31mNameError\u001b[0m                                 Traceback (most recent call last)",
      "\u001b[0;32m<ipython-input-26-438e3e4458f2>\u001b[0m in \u001b[0;36m<module>\u001b[0;34m\u001b[0m\n\u001b[0;32m----> 1\u001b[0;31m \u001b[0mx_test_res\u001b[0m\u001b[0;34m,\u001b[0m \u001b[0my_test_res\u001b[0m \u001b[0;34m=\u001b[0m \u001b[0msm\u001b[0m\u001b[0;34m.\u001b[0m\u001b[0mfit_resample\u001b[0m\u001b[0;34m(\u001b[0m\u001b[0mx_val\u001b[0m\u001b[0;34m,\u001b[0m \u001b[0my_val\u001b[0m\u001b[0;34m)\u001b[0m\u001b[0;34m\u001b[0m\u001b[0;34m\u001b[0m\u001b[0m\n\u001b[0m",
      "\u001b[0;31mNameError\u001b[0m: name 'sm' is not defined"
     ]
    }
   ],
   "source": [
    "x_test_res, y_test_res = sm.fit_resample(x_val, y_val)"
   ]
  },
  {
   "cell_type": "code",
   "execution_count": 34,
   "metadata": {},
   "outputs": [
    {
     "data": {
      "text/plain": [
       "5    4252\n",
       "4    4252\n",
       "3    4252\n",
       "2    4252\n",
       "1    4252\n",
       "Name: overall, dtype: int64"
      ]
     },
     "execution_count": 34,
     "metadata": {},
     "output_type": "execute_result"
    }
   ],
   "source": [
    "#Verifying oversampling \n",
    "y_test_res.value_counts()\n",
    "y_train_res.value_counts()"
   ]
  },
  {
   "cell_type": "code",
   "execution_count": 25,
   "metadata": {},
   "outputs": [
    {
     "name": "stdout",
     "output_type": "stream",
     "text": [
      "\u001b[31mERROR: Could not find a version that satisfies the requirement itertools (from versions: none)\u001b[0m\n",
      "\u001b[31mERROR: No matching distribution found for itertools\u001b[0m\n",
      "Note: you may need to restart the kernel to use updated packages.\n"
     ]
    }
   ],
   "source": [
    "pip install itertools"
   ]
  },
  {
   "cell_type": "code",
   "execution_count": 35,
   "metadata": {},
   "outputs": [],
   "source": [
    "#Modelling\n",
    "import itertools\n",
    "# Confusion Matrix function\n",
    "def plot_confusion_matrix(cm, classes,\n",
    "                          normalize=False,\n",
    "                          title = 'Confusion matrix',\n",
    "                          cmap = plt.cm.ocean):\n",
    "    \"\"\"\n",
    "    Create a confusion matrix plot for 'good' and 'bad' rating values \n",
    "    \"\"\"\n",
    "    if normalize:\n",
    "        cm = cm.astype('float') / cm.sum(axis = 1)[:, np.newaxis]\n",
    "    plt.imshow(cm, interpolation = 'nearest', cmap = cmap)\n",
    "    plt.title(title, fontsize = 20)\n",
    "    plt.colorbar()\n",
    "    tick_marks = np.arange(len(classes))\n",
    "    plt.xticks(tick_marks, classes, fontsize = 20)\n",
    "    plt.yticks(tick_marks, classes, fontsize = 20)\n",
    "    \n",
    "    fmt = '.2f' if normalize else 'd'\n",
    "    thresh = cm.max() / 2.\n",
    "\n",
    "    for i, j in itertools.product(range(cm.shape[0]), range(cm.shape[1])):\n",
    "        plt.text(j, i, format(cm[i, j], fmt), horizontalalignment = \"center\", \n",
    "                 color = \"white\" if cm[i, j] < thresh else \"black\", fontsize = 40)\n",
    "    \n",
    "    plt.tight_layout()\n",
    "    plt.ylabel('True Label', fontsize = 30)\n",
    "    plt.xlabel('Predicted Label', fontsize = 30)\n",
    "\n",
    "    return plt"
   ]
  },
  {
   "cell_type": "code",
   "execution_count": 36,
   "metadata": {},
   "outputs": [],
   "source": [
    "def disp_confusion_matrix(y_pred, model_name, vector = 'CounterVectorizing'):\n",
    "    \"\"\"\n",
    "    Display confusion matrix for selected model with countVectorizer\n",
    "    \"\"\"\n",
    "    cm = confusion_matrix(y_test_res, predictions)\n",
    "    fig = plt.figure(figsize=(10, 10))\n",
    "    plot = plot_confusion_matrix(cm, classes=[1,2,3,4,5], normalize=False, \n",
    "                                 title = model_name + \" \" + 'with' + \" \" + vector + \" \"+ '\\nConfusion Matrix')\n",
    "    plt.show()"
   ]
  },
  {
   "cell_type": "code",
   "execution_count": 37,
   "metadata": {},
   "outputs": [],
   "source": [
    "def modeling(Model, Xtrain = x_train_res, Xtest = x_test_res):\n",
    "    \"\"\"\n",
    "    This function apply countVectorizer with machine learning algorithms. \n",
    "    \"\"\"\n",
    "    \n",
    "    # Instantiate the classifier: model\n",
    "    model = Model\n",
    "    \n",
    "    # Fitting classifier to the Training set (all features)\n",
    "    model.fit(Xtrain, y_train)\n",
    "    \n",
    "    global y_pred\n",
    "    # Predicting the Test set results\n",
    "    y_pred = model.predict(Xtest)\n",
    "    \n",
    "    # Assign f1 score to a variable\n",
    "    score = f1_score(y_test, y_pred, average = 'weighted')\n",
    "    \n",
    "    # Printing evaluation metric (f1-score) \n",
    "    print(\"f1 score: {}\".format(score))"
   ]
  },
  {
   "cell_type": "code",
   "execution_count": 38,
   "metadata": {},
   "outputs": [],
   "source": [
    "#Function call for Logistic Regression\n",
    "\n",
    "logisticRegr = LogisticRegression()\n",
    "\n",
    "logisticRegr.fit(x_train_res, y_train_res)\n",
    "\n",
    "predictions = logisticRegr.predict(x_test_res)"
   ]
  },
  {
   "cell_type": "code",
   "execution_count": 39,
   "metadata": {},
   "outputs": [
    {
     "name": "stdout",
     "output_type": "stream",
     "text": [
      "0.3949972811310495\n"
     ]
    }
   ],
   "source": [
    "score = logisticRegr.score(x_test_res, y_test_res)\n",
    "#score = f1_score(y_test_res, predictions, average = 'weighted')\n",
    "print(score)"
   ]
  },
  {
   "cell_type": "code",
   "execution_count": 40,
   "metadata": {},
   "outputs": [
    {
     "name": "stdout",
     "output_type": "stream",
     "text": [
      "              precision    recall  f1-score   support\n",
      "\n",
      "           1       0.70      0.27      0.39      1839\n",
      "           2       0.35      0.13      0.19      1839\n",
      "           3       0.37      0.39      0.38      1839\n",
      "           4       0.33      0.41      0.37      1839\n",
      "           5       0.40      0.76      0.52      1839\n",
      "\n",
      "    accuracy                           0.39      9195\n",
      "   macro avg       0.43      0.39      0.37      9195\n",
      "weighted avg       0.43      0.39      0.37      9195\n",
      "\n"
     ]
    }
   ],
   "source": [
    "print(classification_report(y_test_res, predictions))"
   ]
  },
  {
   "cell_type": "code",
   "execution_count": 41,
   "metadata": {},
   "outputs": [
    {
     "data": {
      "image/png": "[encoded data removed]",
      "text/plain": [
       "<Figure size 720x720 with 2 Axes>"
      ]
     },
     "metadata": {
      "needs_background": "light"
     },
     "output_type": "display_data"
    }
   ],
   "source": [
    "disp_confusion_matrix(predictions, \"Logistic Regression\")"
   ]
  },
  {
   "cell_type": "code",
   "execution_count": 42,
   "metadata": {},
   "outputs": [],
   "source": [
    "# Fuction to compute alpha value\n",
    "def naive_bayes(X_train, y_train):\n",
    "    \n",
    "    alpha_values = np.arange(1, 500, 0.5)\n",
    "        \n",
    "\n",
    "    # empty list that will hold cv scores\n",
    "    cv_scores = []\n",
    "\n",
    "    # perform 10-fold cross validation\n",
    "    for alpha in alpha_values:\n",
    "        mnb = MultinomialNB(alpha = alpha)\n",
    "        scores = cross_val_score(mnb, X_train, y_train, cv = 10, scoring = 'accuracy')\n",
    "        cv_scores.append(scores.mean())\n",
    "\n",
    "    # changing to misclassification error\n",
    "    MSE = [1 - x for x in cv_scores]\n",
    "\n",
    "    # determining best alpha\n",
    "    optimal_alpha = alpha_values[MSE.index(min(MSE))]\n",
    "    print('\\nThe optimal number of alpha is %d.' % optimal_alpha)\n",
    "\n",
    "    # plot misclassification error vs alpha\n",
    "    plt.plot(alpha_values, MSE, marker = '*') \n",
    "\n",
    "    #for xy in zip(alpha_values, np.round(MSE,3)):\n",
    "        #plt.annotate('(%s, %s)' % xy, xy=xy, textcoords='data')\n",
    "    plt.title(\"Misclassification Error vs alpha\")\n",
    "    plt.xlabel('value of alpha')\n",
    "    plt.ylabel('Misclassification Error')\n",
    "    plt.show()\n",
    "\n",
    "    #print(\"the misclassification error for each value of alpha is : \", np.round(MSE,3))\n",
    "    return optimal_alpha"
   ]
  },
  {
   "cell_type": "code",
   "execution_count": 43,
   "metadata": {},
   "outputs": [
    {
     "data": {
      "text/plain": [
       "MultinomialNB()"
      ]
     },
     "execution_count": 43,
     "metadata": {},
     "output_type": "execute_result"
    }
   ],
   "source": [
    "#Modelling using Naive Bayes\n",
    "# instantiate learning model alpha = optimal_alpha\n",
    "\n",
    "from sklearn.naive_bayes import MultinomialNB\n",
    "nb_optimal =  MultinomialNB(alpha = 1.0)\n",
    "\n",
    "# fitting the model\n",
    "nb_optimal.fit(x_train_res, y_train_res)\n",
    "\n",
    "# predict the response"
   ]
  },
  {
   "cell_type": "code",
   "execution_count": 44,
   "metadata": {},
   "outputs": [],
   "source": [
    "predictions_nb = nb_optimal.predict(x_test_res)"
   ]
  },
  {
   "cell_type": "code",
   "execution_count": 45,
   "metadata": {},
   "outputs": [
    {
     "name": "stdout",
     "output_type": "stream",
     "text": [
      "              precision    recall  f1-score   support\n",
      "\n",
      "           1       0.63      0.32      0.42      1839\n",
      "           2       0.19      0.10      0.13      1839\n",
      "           3       0.30      0.41      0.34      1839\n",
      "           4       0.32      0.47      0.38      1839\n",
      "           5       0.52      0.57      0.54      1839\n",
      "\n",
      "    accuracy                           0.37      9195\n",
      "   macro avg       0.39      0.37      0.37      9195\n",
      "weighted avg       0.39      0.37      0.37      9195\n",
      "\n"
     ]
    }
   ],
   "source": [
    "print(classification_report(y_test_res, predictions))"
   ]
  },
  {
   "cell_type": "code",
   "execution_count": 46,
   "metadata": {},
   "outputs": [
    {
     "data": {
      "image/png": "[encoded data removed]",
      "text/plain": [
       "<Figure size 720x720 with 2 Axes>"
      ]
     },
     "metadata": {
      "needs_background": "light"
     },
     "output_type": "display_data"
    }
   ],
   "source": [
    "disp_confusion_matrix(predictions, \"Naive Bayes\")"
   ]
  },
  {
   "cell_type": "code",
   "execution_count": 47,
   "metadata": {},
   "outputs": [
    {
     "name": "stdout",
     "output_type": "stream",
     "text": [
      "Collecting keras\n",
      "  Downloading Keras-2.4.3-py2.py3-none-any.whl (36 kB)\n",
      "Requirement already satisfied: scipy>=0.14 in /opt/conda/lib/python3.7/site-packages (from keras) (1.4.1)\n",
      "Requirement already satisfied: pyyaml in /opt/conda/lib/python3.7/site-packages (from keras) (5.3.1)\n",
      "Requirement already satisfied: h5py in /opt/conda/lib/python3.7/site-packages (from keras) (2.10.0)\n",
      "Requirement already satisfied: numpy>=1.9.1 in /opt/conda/lib/python3.7/site-packages (from keras) (1.18.4)\n",
      "Requirement already satisfied: six in /opt/conda/lib/python3.7/site-packages (from h5py->keras) (1.14.0)\n",
      "Installing collected packages: keras\n",
      "Successfully installed keras-2.4.3\n",
      "Note: you may need to restart the kernel to use updated packages.\n"
     ]
    }
   ],
   "source": [
    "pip install keras"
   ]
  },
  {
   "cell_type": "code",
   "execution_count": 48,
   "metadata": {},
   "outputs": [
    {
     "name": "stdout",
     "output_type": "stream",
     "text": [
      "Collecting tensorflow\n",
      "  Downloading tensorflow-2.4.1-cp37-cp37m-manylinux2010_x86_64.whl (394.3 MB)\n",
      "\u001b[K     |████████████████████████████▌   | 351.6 MB 92.7 MB/s eta 0:00:01��███     | 333.4 MB 92.7 MB/s eta 0:00:01"
     ]
    },
    {
     "name": "stderr",
     "output_type": "stream",
     "text": [
      "IOPub data rate exceeded.\n",
      "The notebook server will temporarily stop sending output\n",
      "to the client in order to avoid crashing it.\n",
      "To change this limit, set the config variable\n",
      "`--NotebookApp.iopub_data_rate_limit`.\n",
      "\n",
      "Current values:\n",
      "NotebookApp.iopub_data_rate_limit=1000000.0 (bytes/sec)\n",
      "NotebookApp.rate_limit_window=3.0 (secs)\n",
      "\n"
     ]
    },
    {
     "name": "stdout",
     "output_type": "stream",
     "text": [
      "\u001b[K     |████████████████████████████████| 394.3 MB 7.2 kB/s \n",
      "\u001b[?25hCollecting six~=1.15.0\n",
      "  Downloading six-1.15.0-py2.py3-none-any.whl (10 kB)\n",
      "Collecting wrapt~=1.12.1\n",
      "  Downloading wrapt-1.12.1.tar.gz (27 kB)\n",
      "Collecting wheel~=0.35\n",
      "  Downloading wheel-0.36.2-py2.py3-none-any.whl (35 kB)\n",
      "Collecting numpy~=1.19.2\n",
      "  Downloading numpy-1.19.5-cp37-cp37m-manylinux2010_x86_64.whl (14.8 MB)\n",
      "\u001b[K     |████████████████████████████████| 14.8 MB 30.9 MB/s eta 0:00:01\n",
      "\u001b[?25hCollecting google-pasta~=0.2\n",
      "  Downloading google_pasta-0.2.0-py3-none-any.whl (57 kB)\n",
      "\u001b[K     |████████████████████████████████| 57 kB 6.5 MB/s  eta 0:00:01\n",
      "\u001b[?25hCollecting tensorflow-estimator<2.5.0,>=2.4.0\n",
      "  Downloading tensorflow_estimator-2.4.0-py2.py3-none-any.whl (462 kB)\n",
      "\u001b[K     |████████████████████████████████| 462 kB 60.2 MB/s eta 0:00:01\n",
      "\u001b[?25hCollecting keras-preprocessing~=1.1.2\n",
      "  Downloading Keras_Preprocessing-1.1.2-py2.py3-none-any.whl (42 kB)\n",
      "\u001b[K     |████████████████████████████████| 42 kB 1.6 MB/s  eta 0:00:01\n",
      "\u001b[?25hRequirement already satisfied: typing-extensions~=3.7.4 in /opt/conda/lib/python3.7/site-packages (from tensorflow) (3.7.4.2)\n",
      "Collecting gast==0.3.3\n",
      "  Downloading gast-0.3.3-py2.py3-none-any.whl (9.7 kB)\n",
      "Collecting termcolor~=1.1.0\n",
      "  Downloading termcolor-1.1.0.tar.gz (3.9 kB)\n",
      "Collecting grpcio~=1.32.0\n",
      "  Downloading grpcio-1.32.0-cp37-cp37m-manylinux2014_x86_64.whl (3.8 MB)\n",
      "\u001b[K     |████████████████████████████████| 3.8 MB 55.0 MB/s eta 0:00:01\n",
      "\u001b[?25hRequirement already satisfied: h5py~=2.10.0 in /opt/conda/lib/python3.7/site-packages (from tensorflow) (2.10.0)\n",
      "Collecting absl-py~=0.10\n",
      "  Downloading absl_py-0.11.0-py3-none-any.whl (127 kB)\n",
      "\u001b[K     |████████████████████████████████| 127 kB 62.2 MB/s eta 0:00:01\n",
      "\u001b[?25hCollecting opt-einsum~=3.3.0\n",
      "  Downloading opt_einsum-3.3.0-py3-none-any.whl (65 kB)\n",
      "\u001b[K     |████████████████████████████████| 65 kB 5.0 MB/s  eta 0:00:01\n",
      "\u001b[?25hRequirement already satisfied: protobuf>=3.9.2 in /opt/conda/lib/python3.7/site-packages (from tensorflow) (3.11.4)\n",
      "Collecting tensorboard~=2.4\n",
      "  Downloading tensorboard-2.4.1-py3-none-any.whl (10.6 MB)\n",
      "\u001b[K     |████████████████████████████████| 10.6 MB 56.1 MB/s eta 0:00:01\n",
      "\u001b[?25hCollecting astunparse~=1.6.3\n",
      "  Downloading astunparse-1.6.3-py2.py3-none-any.whl (12 kB)\n",
      "Collecting flatbuffers~=1.12.0\n",
      "  Downloading flatbuffers-1.12-py2.py3-none-any.whl (15 kB)\n",
      "Requirement already satisfied: setuptools in /opt/conda/lib/python3.7/site-packages (from protobuf>=3.9.2->tensorflow) (46.1.3.post20200325)\n",
      "Collecting tensorboard-plugin-wit>=1.6.0\n",
      "  Downloading tensorboard_plugin_wit-1.8.0-py3-none-any.whl (781 kB)\n",
      "\u001b[K     |████████████████████████████████| 781 kB 62.4 MB/s eta 0:00:01\n",
      "\u001b[?25hCollecting google-auth-oauthlib<0.5,>=0.4.1\n",
      "  Downloading google_auth_oauthlib-0.4.3-py2.py3-none-any.whl (18 kB)\n",
      "Requirement already satisfied: requests<3,>=2.21.0 in /opt/conda/lib/python3.7/site-packages (from tensorboard~=2.4->tensorflow) (2.23.0)\n",
      "Collecting werkzeug>=0.11.15\n",
      "  Downloading Werkzeug-1.0.1-py2.py3-none-any.whl (298 kB)\n",
      "\u001b[K     |████████████████████████████████| 298 kB 58.5 MB/s eta 0:00:01\n",
      "\u001b[?25hCollecting markdown>=2.6.8\n",
      "  Downloading Markdown-3.3.4-py3-none-any.whl (97 kB)\n",
      "\u001b[K     |████████████████████████████████| 97 kB 8.8 MB/s  eta 0:00:01\n",
      "\u001b[?25hRequirement already satisfied: google-auth<2,>=1.6.3 in /opt/conda/lib/python3.7/site-packages (from tensorboard~=2.4->tensorflow) (1.16.1)\n",
      "Requirement already satisfied: requests-oauthlib>=0.7.0 in /opt/conda/lib/python3.7/site-packages (from google-auth-oauthlib<0.5,>=0.4.1->tensorboard~=2.4->tensorflow) (1.3.0)\n",
      "Requirement already satisfied: idna<3,>=2.5 in /opt/conda/lib/python3.7/site-packages (from requests<3,>=2.21.0->tensorboard~=2.4->tensorflow) (2.9)\n",
      "Requirement already satisfied: urllib3!=1.25.0,!=1.25.1,<1.26,>=1.21.1 in /opt/conda/lib/python3.7/site-packages (from requests<3,>=2.21.0->tensorboard~=2.4->tensorflow) (1.25.9)\n",
      "Requirement already satisfied: chardet<4,>=3.0.2 in /opt/conda/lib/python3.7/site-packages (from requests<3,>=2.21.0->tensorboard~=2.4->tensorflow) (3.0.4)\n",
      "Requirement already satisfied: certifi>=2017.4.17 in /opt/conda/lib/python3.7/site-packages (from requests<3,>=2.21.0->tensorboard~=2.4->tensorflow) (2020.4.5.2)\n",
      "Requirement already satisfied: importlib-metadata; python_version < \"3.8\" in /opt/conda/lib/python3.7/site-packages (from markdown>=2.6.8->tensorboard~=2.4->tensorflow) (1.6.0)\n",
      "Requirement already satisfied: pyasn1-modules>=0.2.1 in /opt/conda/lib/python3.7/site-packages (from google-auth<2,>=1.6.3->tensorboard~=2.4->tensorflow) (0.2.8)\n",
      "Requirement already satisfied: cachetools<5.0,>=2.0.0 in /opt/conda/lib/python3.7/site-packages (from google-auth<2,>=1.6.3->tensorboard~=2.4->tensorflow) (4.1.0)\n",
      "Requirement already satisfied: rsa<4.1,>=3.1.4 in /opt/conda/lib/python3.7/site-packages (from google-auth<2,>=1.6.3->tensorboard~=2.4->tensorflow) (4.0)\n",
      "Requirement already satisfied: oauthlib>=3.0.0 in /opt/conda/lib/python3.7/site-packages (from requests-oauthlib>=0.7.0->google-auth-oauthlib<0.5,>=0.4.1->tensorboard~=2.4->tensorflow) (3.0.1)\n",
      "Requirement already satisfied: zipp>=0.5 in /opt/conda/lib/python3.7/site-packages (from importlib-metadata; python_version < \"3.8\"->markdown>=2.6.8->tensorboard~=2.4->tensorflow) (3.1.0)\n",
      "Requirement already satisfied: pyasn1<0.5.0,>=0.4.6 in /opt/conda/lib/python3.7/site-packages (from pyasn1-modules>=0.2.1->google-auth<2,>=1.6.3->tensorboard~=2.4->tensorflow) (0.4.8)\n",
      "Building wheels for collected packages: wrapt, termcolor\n",
      "  Building wheel for wrapt (setup.py) ... \u001b[?25ldone\n",
      "\u001b[?25h  Created wheel for wrapt: filename=wrapt-1.12.1-cp37-cp37m-linux_x86_64.whl size=70910 sha256=309aa7c032d8c2c1fdfc014b5952bfb8fcaaff7bd740887f3f0cac626ecbece8\n",
      "  Stored in directory: /home/jovyan/.cache/pip/wheels/62/76/4c/aa25851149f3f6d9785f6c869387ad82b3fd37582fa8147ac6\n",
      "  Building wheel for termcolor (setup.py) ... \u001b[?25ldone\n",
      "\u001b[?25h  Created wheel for termcolor: filename=termcolor-1.1.0-py3-none-any.whl size=4830 sha256=b06f627441b23d9f169f8c93b646a99f3cc7ed5d504ce6672a268105963e6aa0\n",
      "  Stored in directory: /home/jovyan/.cache/pip/wheels/3f/e3/ec/8a8336ff196023622fbcb36de0c5a5c218cbb24111d1d4c7f2\n",
      "Successfully built wrapt termcolor\n",
      "Installing collected packages: six, wrapt, wheel, numpy, google-pasta, tensorflow-estimator, keras-preprocessing, gast, termcolor, grpcio, absl-py, opt-einsum, tensorboard-plugin-wit, google-auth-oauthlib, werkzeug, markdown, tensorboard, astunparse, flatbuffers, tensorflow\n",
      "  Attempting uninstall: six\n",
      "    Found existing installation: six 1.14.0\n",
      "    Uninstalling six-1.14.0:\n",
      "      Successfully uninstalled six-1.14.0\n",
      "  Attempting uninstall: wheel\n",
      "    Found existing installation: wheel 0.34.2\n",
      "    Uninstalling wheel-0.34.2:\n",
      "      Successfully uninstalled wheel-0.34.2\n",
      "  Attempting uninstall: numpy\n",
      "    Found existing installation: numpy 1.18.4\n",
      "    Uninstalling numpy-1.18.4:\n",
      "      Successfully uninstalled numpy-1.18.4\n",
      "Successfully installed absl-py-0.11.0 astunparse-1.6.3 flatbuffers-1.12 gast-0.3.3 google-auth-oauthlib-0.4.3 google-pasta-0.2.0 grpcio-1.32.0 keras-preprocessing-1.1.2 markdown-3.3.4 numpy-1.19.5 opt-einsum-3.3.0 six-1.15.0 tensorboard-2.4.1 tensorboard-plugin-wit-1.8.0 tensorflow-2.4.1 tensorflow-estimator-2.4.0 termcolor-1.1.0 werkzeug-1.0.1 wheel-0.36.2 wrapt-1.12.1\n",
      "Note: you may need to restart the kernel to use updated packages.\n"
     ]
    }
   ],
   "source": [
    "pip install tensorflow"
   ]
  },
  {
   "cell_type": "code",
   "execution_count": 49,
   "metadata": {},
   "outputs": [
    {
     "name": "stdout",
     "output_type": "stream",
     "text": [
      "Processing ./.cache/pip/wheels/45/6c/46/a1865e7ba706b3817f5d1b2ff7ce8996aabdd0d03d47ba0266/nltk-3.5-py3-none-any.whl\n",
      "Requirement already satisfied: click in /opt/conda/lib/python3.7/site-packages (from nltk) (7.1.2)\n",
      "Collecting regex\n",
      "  Using cached regex-2020.11.13-cp37-cp37m-manylinux2014_x86_64.whl (719 kB)\n",
      "Requirement already satisfied: tqdm in /opt/conda/lib/python3.7/site-packages (from nltk) (4.45.0)\n",
      "Requirement already satisfied: joblib in /opt/conda/lib/python3.7/site-packages (from nltk) (0.15.1)\n",
      "Installing collected packages: regex, nltk\n",
      "Successfully installed nltk-3.5 regex-2020.11.13\n",
      "Note: you may need to restart the kernel to use updated packages.\n"
     ]
    }
   ],
   "source": [
    "pip install nltk"
   ]
  },
  {
   "cell_type": "code",
   "execution_count": 50,
   "metadata": {},
   "outputs": [
    {
     "name": "stdout",
     "output_type": "stream",
     "text": [
      "Requirement already satisfied: plotly==4.14.3 in /opt/conda/lib/python3.7/site-packages (4.14.3)\n",
      "Requirement already satisfied: retrying>=1.3.3 in /opt/conda/lib/python3.7/site-packages (from plotly==4.14.3) (1.3.3)\n",
      "Requirement already satisfied: six in /opt/conda/lib/python3.7/site-packages (from plotly==4.14.3) (1.15.0)\n",
      "Note: you may need to restart the kernel to use updated packages.\n"
     ]
    }
   ],
   "source": [
    "pip install plotly==4.14.3"
   ]
  },
  {
   "cell_type": "code",
   "execution_count": 51,
   "metadata": {},
   "outputs": [
    {
     "name": "stdout",
     "output_type": "stream",
     "text": [
      "Collecting chart_studio\n",
      "  Downloading chart_studio-1.1.0-py3-none-any.whl (64 kB)\n",
      "\u001b[K     |████████████████████████████████| 64 kB 2.2 MB/s eta 0:00:011\n",
      "\u001b[?25hRequirement already satisfied: retrying>=1.3.3 in /opt/conda/lib/python3.7/site-packages (from chart_studio) (1.3.3)\n",
      "Requirement already satisfied: requests in /opt/conda/lib/python3.7/site-packages (from chart_studio) (2.23.0)\n",
      "Requirement already satisfied: six in /opt/conda/lib/python3.7/site-packages (from chart_studio) (1.15.0)\n",
      "Requirement already satisfied: plotly in /opt/conda/lib/python3.7/site-packages (from chart_studio) (4.14.3)\n",
      "Requirement already satisfied: urllib3!=1.25.0,!=1.25.1,<1.26,>=1.21.1 in /opt/conda/lib/python3.7/site-packages (from requests->chart_studio) (1.25.9)\n",
      "Requirement already satisfied: certifi>=2017.4.17 in /opt/conda/lib/python3.7/site-packages (from requests->chart_studio) (2020.4.5.2)\n",
      "Requirement already satisfied: chardet<4,>=3.0.2 in /opt/conda/lib/python3.7/site-packages (from requests->chart_studio) (3.0.4)\n",
      "Requirement already satisfied: idna<3,>=2.5 in /opt/conda/lib/python3.7/site-packages (from requests->chart_studio) (2.9)\n",
      "Installing collected packages: chart-studio\n",
      "Successfully installed chart-studio-1.1.0\n",
      "Note: you may need to restart the kernel to use updated packages.\n"
     ]
    }
   ],
   "source": [
    "pip install chart_studio"
   ]
  },
  {
   "cell_type": "code",
   "execution_count": 52,
   "metadata": {},
   "outputs": [
    {
     "name": "stdout",
     "output_type": "stream",
     "text": [
      "Collecting cufflinks\n",
      "  Downloading cufflinks-0.17.3.tar.gz (81 kB)\n",
      "\u001b[K     |████████████████████████████████| 81 kB 4.0 MB/s eta 0:00:011\n",
      "\u001b[?25hRequirement already satisfied: numpy>=1.9.2 in /opt/conda/lib/python3.7/site-packages (from cufflinks) (1.19.5)\n",
      "Requirement already satisfied: pandas>=0.19.2 in /opt/conda/lib/python3.7/site-packages (from cufflinks) (1.0.3)\n",
      "Requirement already satisfied: plotly>=4.1.1 in /opt/conda/lib/python3.7/site-packages (from cufflinks) (4.14.3)\n",
      "Requirement already satisfied: six>=1.9.0 in /opt/conda/lib/python3.7/site-packages (from cufflinks) (1.15.0)\n",
      "Collecting colorlover>=0.2.1\n",
      "  Downloading colorlover-0.3.0-py3-none-any.whl (8.9 kB)\n",
      "Requirement already satisfied: setuptools>=34.4.1 in /opt/conda/lib/python3.7/site-packages (from cufflinks) (46.1.3.post20200325)\n",
      "Requirement already satisfied: ipython>=5.3.0 in /opt/conda/lib/python3.7/site-packages (from cufflinks) (7.14.0)\n",
      "Requirement already satisfied: ipywidgets>=7.0.0 in /opt/conda/lib/python3.7/site-packages (from cufflinks) (7.5.1)\n",
      "Requirement already satisfied: python-dateutil>=2.6.1 in /opt/conda/lib/python3.7/site-packages (from pandas>=0.19.2->cufflinks) (2.8.1)\n",
      "Requirement already satisfied: pytz>=2017.2 in /opt/conda/lib/python3.7/site-packages (from pandas>=0.19.2->cufflinks) (2020.1)\n",
      "Requirement already satisfied: retrying>=1.3.3 in /opt/conda/lib/python3.7/site-packages (from plotly>=4.1.1->cufflinks) (1.3.3)\n",
      "Requirement already satisfied: traitlets>=4.2 in /opt/conda/lib/python3.7/site-packages (from ipython>=5.3.0->cufflinks) (4.3.3)\n",
      "Requirement already satisfied: decorator in /opt/conda/lib/python3.7/site-packages (from ipython>=5.3.0->cufflinks) (4.4.2)\n",
      "Requirement already satisfied: pygments in /opt/conda/lib/python3.7/site-packages (from ipython>=5.3.0->cufflinks) (2.6.1)\n",
      "Requirement already satisfied: backcall in /opt/conda/lib/python3.7/site-packages (from ipython>=5.3.0->cufflinks) (0.1.0)\n",
      "Requirement already satisfied: pexpect; sys_platform != \"win32\" in /opt/conda/lib/python3.7/site-packages (from ipython>=5.3.0->cufflinks) (4.8.0)\n",
      "Requirement already satisfied: prompt-toolkit!=3.0.0,!=3.0.1,<3.1.0,>=2.0.0 in /opt/conda/lib/python3.7/site-packages (from ipython>=5.3.0->cufflinks) (3.0.5)\n",
      "Requirement already satisfied: pickleshare in /opt/conda/lib/python3.7/site-packages (from ipython>=5.3.0->cufflinks) (0.7.5)\n",
      "Requirement already satisfied: jedi>=0.10 in /opt/conda/lib/python3.7/site-packages (from ipython>=5.3.0->cufflinks) (0.17.0)\n",
      "Requirement already satisfied: ipykernel>=4.5.1 in /opt/conda/lib/python3.7/site-packages (from ipywidgets>=7.0.0->cufflinks) (5.3.0)\n",
      "Requirement already satisfied: nbformat>=4.2.0 in /opt/conda/lib/python3.7/site-packages (from ipywidgets>=7.0.0->cufflinks) (5.0.6)\n",
      "Requirement already satisfied: widgetsnbextension~=3.5.0 in /opt/conda/lib/python3.7/site-packages (from ipywidgets>=7.0.0->cufflinks) (3.5.1)\n",
      "Requirement already satisfied: ipython-genutils in /opt/conda/lib/python3.7/site-packages (from traitlets>=4.2->ipython>=5.3.0->cufflinks) (0.2.0)\n",
      "Requirement already satisfied: ptyprocess>=0.5 in /opt/conda/lib/python3.7/site-packages (from pexpect; sys_platform != \"win32\"->ipython>=5.3.0->cufflinks) (0.6.0)\n",
      "Requirement already satisfied: wcwidth in /opt/conda/lib/python3.7/site-packages (from prompt-toolkit!=3.0.0,!=3.0.1,<3.1.0,>=2.0.0->ipython>=5.3.0->cufflinks) (0.1.9)\n",
      "Requirement already satisfied: parso>=0.7.0 in /opt/conda/lib/python3.7/site-packages (from jedi>=0.10->ipython>=5.3.0->cufflinks) (0.7.0)\n",
      "Requirement already satisfied: jupyter-client in /opt/conda/lib/python3.7/site-packages (from ipykernel>=4.5.1->ipywidgets>=7.0.0->cufflinks) (6.1.3)\n",
      "Requirement already satisfied: tornado>=4.2 in /opt/conda/lib/python3.7/site-packages (from ipykernel>=4.5.1->ipywidgets>=7.0.0->cufflinks) (6.0.4)\n",
      "Requirement already satisfied: jupyter-core in /opt/conda/lib/python3.7/site-packages (from nbformat>=4.2.0->ipywidgets>=7.0.0->cufflinks) (4.6.3)\n",
      "Requirement already satisfied: jsonschema!=2.5.0,>=2.4 in /opt/conda/lib/python3.7/site-packages (from nbformat>=4.2.0->ipywidgets>=7.0.0->cufflinks) (3.2.0)\n",
      "Requirement already satisfied: notebook>=4.4.1 in /opt/conda/lib/python3.7/site-packages (from widgetsnbextension~=3.5.0->ipywidgets>=7.0.0->cufflinks) (6.0.3)\n",
      "Requirement already satisfied: pyzmq>=13 in /opt/conda/lib/python3.7/site-packages (from jupyter-client->ipykernel>=4.5.1->ipywidgets>=7.0.0->cufflinks) (19.0.1)\n",
      "Requirement already satisfied: importlib-metadata; python_version < \"3.8\" in /opt/conda/lib/python3.7/site-packages (from jsonschema!=2.5.0,>=2.4->nbformat>=4.2.0->ipywidgets>=7.0.0->cufflinks) (1.6.0)\n",
      "Requirement already satisfied: attrs>=17.4.0 in /opt/conda/lib/python3.7/site-packages (from jsonschema!=2.5.0,>=2.4->nbformat>=4.2.0->ipywidgets>=7.0.0->cufflinks) (19.3.0)\n",
      "Requirement already satisfied: pyrsistent>=0.14.0 in /opt/conda/lib/python3.7/site-packages (from jsonschema!=2.5.0,>=2.4->nbformat>=4.2.0->ipywidgets>=7.0.0->cufflinks) (0.16.0)\n",
      "Requirement already satisfied: jinja2 in /opt/conda/lib/python3.7/site-packages (from notebook>=4.4.1->widgetsnbextension~=3.5.0->ipywidgets>=7.0.0->cufflinks) (2.11.2)\n",
      "Requirement already satisfied: nbconvert in /opt/conda/lib/python3.7/site-packages (from notebook>=4.4.1->widgetsnbextension~=3.5.0->ipywidgets>=7.0.0->cufflinks) (5.6.1)\n",
      "Requirement already satisfied: Send2Trash in /opt/conda/lib/python3.7/site-packages (from notebook>=4.4.1->widgetsnbextension~=3.5.0->ipywidgets>=7.0.0->cufflinks) (1.5.0)\n",
      "Requirement already satisfied: terminado>=0.8.1 in /opt/conda/lib/python3.7/site-packages (from notebook>=4.4.1->widgetsnbextension~=3.5.0->ipywidgets>=7.0.0->cufflinks) (0.8.3)\n",
      "Requirement already satisfied: prometheus-client in /opt/conda/lib/python3.7/site-packages (from notebook>=4.4.1->widgetsnbextension~=3.5.0->ipywidgets>=7.0.0->cufflinks) (0.8.0)\n",
      "Requirement already satisfied: zipp>=0.5 in /opt/conda/lib/python3.7/site-packages (from importlib-metadata; python_version < \"3.8\"->jsonschema!=2.5.0,>=2.4->nbformat>=4.2.0->ipywidgets>=7.0.0->cufflinks) (3.1.0)\n",
      "Requirement already satisfied: MarkupSafe>=0.23 in /opt/conda/lib/python3.7/site-packages (from jinja2->notebook>=4.4.1->widgetsnbextension~=3.5.0->ipywidgets>=7.0.0->cufflinks) (1.1.1)\n",
      "Requirement already satisfied: defusedxml in /opt/conda/lib/python3.7/site-packages (from nbconvert->notebook>=4.4.1->widgetsnbextension~=3.5.0->ipywidgets>=7.0.0->cufflinks) (0.6.0)\n",
      "Requirement already satisfied: entrypoints>=0.2.2 in /opt/conda/lib/python3.7/site-packages (from nbconvert->notebook>=4.4.1->widgetsnbextension~=3.5.0->ipywidgets>=7.0.0->cufflinks) (0.3)\n",
      "Requirement already satisfied: testpath in /opt/conda/lib/python3.7/site-packages (from nbconvert->notebook>=4.4.1->widgetsnbextension~=3.5.0->ipywidgets>=7.0.0->cufflinks) (0.4.4)\n",
      "Requirement already satisfied: mistune<2,>=0.8.1 in /opt/conda/lib/python3.7/site-packages (from nbconvert->notebook>=4.4.1->widgetsnbextension~=3.5.0->ipywidgets>=7.0.0->cufflinks) (0.8.4)\n",
      "Requirement already satisfied: pandocfilters>=1.4.1 in /opt/conda/lib/python3.7/site-packages (from nbconvert->notebook>=4.4.1->widgetsnbextension~=3.5.0->ipywidgets>=7.0.0->cufflinks) (1.4.2)\n",
      "Requirement already satisfied: bleach in /opt/conda/lib/python3.7/site-packages (from nbconvert->notebook>=4.4.1->widgetsnbextension~=3.5.0->ipywidgets>=7.0.0->cufflinks) (3.1.5)\n",
      "Requirement already satisfied: packaging in /opt/conda/lib/python3.7/site-packages (from bleach->nbconvert->notebook>=4.4.1->widgetsnbextension~=3.5.0->ipywidgets>=7.0.0->cufflinks) (20.4)\n",
      "Requirement already satisfied: webencodings in /opt/conda/lib/python3.7/site-packages (from bleach->nbconvert->notebook>=4.4.1->widgetsnbextension~=3.5.0->ipywidgets>=7.0.0->cufflinks) (0.5.1)\n",
      "Requirement already satisfied: pyparsing>=2.0.2 in /opt/conda/lib/python3.7/site-packages (from packaging->bleach->nbconvert->notebook>=4.4.1->widgetsnbextension~=3.5.0->ipywidgets>=7.0.0->cufflinks) (2.4.7)\n",
      "Building wheels for collected packages: cufflinks\n",
      "  Building wheel for cufflinks (setup.py) ... \u001b[?25ldone\n",
      "\u001b[?25h  Created wheel for cufflinks: filename=cufflinks-0.17.3-py3-none-any.whl size=67922 sha256=e008ad527ab2b02e93f1e81a9001b98fd6a746e4f74de6bab7d26cc9cdc99314\n",
      "  Stored in directory: /home/jovyan/.cache/pip/wheels/e1/27/13/3fe67fa7ea7be444b831d117220b3b586b872c9acd4df480d0\n",
      "Successfully built cufflinks\n",
      "Installing collected packages: colorlover, cufflinks\n",
      "Successfully installed colorlover-0.3.0 cufflinks-0.17.3\n",
      "Note: you may need to restart the kernel to use updated packages.\n"
     ]
    }
   ],
   "source": [
    "pip install cufflinks"
   ]
  },
  {
   "cell_type": "code",
   "execution_count": 53,
   "metadata": {},
   "outputs": [
    {
     "data": {
      "text/html": [
       "        <script type=\"text/javascript\">\n",
       "        window.PlotlyConfig = {MathJaxConfig: 'local'};\n",
       "        if (window.MathJax) {MathJax.Hub.Config({SVG: {font: \"STIX-Web\"}});}\n",
       "        if (typeof require !== 'undefined') {\n",
       "        require.undef(\"plotly\");\n",
       "        requirejs.config({\n",
       "            paths: {\n",
       "                'plotly': ['https://cdn.plot.ly/plotly-latest.min']\n",
       "            }\n",
       "        });\n",
       "        require(['plotly'], function(Plotly) {\n",
       "            window._Plotly = Plotly;\n",
       "        });\n",
       "        }\n",
       "        </script>\n",
       "        "
      ]
     },
     "metadata": {},
     "output_type": "display_data"
    }
   ],
   "source": [
    "#LSTM modelling\n",
    "import numpy as np \n",
    "import pandas as pd\n",
    "import matplotlib.pyplot as plt\n",
    "import seaborn as sns\n",
    "from keras.preprocessing.text import Tokenizer\n",
    "from keras.preprocessing.sequence import pad_sequences\n",
    "from keras.models import Sequential\n",
    "from keras.layers import Dense, Embedding, LSTM, SpatialDropout1D\n",
    "from sklearn.model_selection import train_test_split\n",
    "from keras.utils.np_utils import to_categorical\n",
    "from keras.callbacks import EarlyStopping\n",
    "from keras.layers import Dropout\n",
    "import re\n",
    "from nltk.corpus import stopwords\n",
    "from nltk import word_tokenize\n",
    "STOPWORDS = set(stopwords.words('english'))\n",
    "from bs4 import BeautifulSoup\n",
    "import plotly.graph_objs as go\n",
    "#import plotly.plotly as py\n",
    "import chart_studio.plotly as py\n",
    "import cufflinks\n",
    "from IPython.core.interactiveshell import InteractiveShell\n",
    "import plotly.figure_factory as ff\n",
    "InteractiveShell.ast_node_interactivity = 'all'\n",
    "from plotly.offline import iplot\n",
    "cufflinks.go_offline()\n",
    "cufflinks.set_config_file(world_readable=True, theme='pearl')"
   ]
  },
  {
   "cell_type": "code",
   "execution_count": 55,
   "metadata": {},
   "outputs": [
    {
     "data": {
      "text/plain": [
       "\"\\nX = Cleanreview_df['lemma_str']\\ny = Cleanreview_df['overall']\\n\""
      ]
     },
     "execution_count": 55,
     "metadata": {},
     "output_type": "execute_result"
    },
    {
     "name": "stdout",
     "output_type": "stream",
     "text": [
      "Found 17425 unique tokens.\n"
     ]
    }
   ],
   "source": [
    "# The maximum number of words to be used. (most frequent)\n",
    "\n",
    "'''\n",
    "X = Cleanreview_df['lemma_str']\n",
    "y = Cleanreview_df['overall']\n",
    "'''\n",
    "MAX_NB_WORDS = 50000\n",
    "# Max number of words in each Review.\n",
    "MAX_SEQUENCE_LENGTH = 250\n",
    "# This is fixed.\n",
    "EMBEDDING_DIM = 100\n",
    "#, lower=True\n",
    "tokenizer = Tokenizer(num_words=MAX_NB_WORDS, filters='!\"#$%&()*+,-./:;<=>?@[\\]^_`{|}~', lower=True\n",
    "                     )\n",
    "tokenizer.fit_on_texts(Cleanreview_df['lemma_str'].values)\n",
    "word_index = tokenizer.word_index\n",
    "print('Found %s unique tokens.' % len(word_index))"
   ]
  },
  {
   "cell_type": "code",
   "execution_count": 56,
   "metadata": {},
   "outputs": [
    {
     "name": "stdout",
     "output_type": "stream",
     "text": [
      "Shape of data tensor: (9093, 250)\n"
     ]
    }
   ],
   "source": [
    "X = tokenizer.texts_to_sequences(Cleanreview_df['lemma_str'].values)\n",
    "X = pad_sequences(X, maxlen=MAX_SEQUENCE_LENGTH)\n",
    "print('Shape of data tensor:', X.shape)"
   ]
  },
  {
   "cell_type": "code",
   "execution_count": 57,
   "metadata": {},
   "outputs": [
    {
     "name": "stdout",
     "output_type": "stream",
     "text": [
      "Shape of label tensor: (9093, 5)\n"
     ]
    }
   ],
   "source": [
    "Y = pd.get_dummies(Cleanreview_df['overall']).values\n",
    "print('Shape of label tensor:', Y.shape)"
   ]
  },
  {
   "cell_type": "code",
   "execution_count": 58,
   "metadata": {},
   "outputs": [
    {
     "data": {
      "text/plain": [
       "array([   0,    0,    0,    0,    0,    0,    0,    0,    0,    0,    0,\n",
       "          0,    0,    0,    0,    0,    0,    0,    0,    0,    0,    0,\n",
       "          0,    0,    0,    0,    0,    0,    0,    0,    0,    0,    0,\n",
       "          0,    0,    0,    0,    0,    0,    0,    0,    0,    0,    0,\n",
       "          0,    0,    0,    0,    0,    0,    0,    0,    0,    0,    0,\n",
       "          0,    0,    0,    0,    0,    0,    0,    0,    0,    0,    0,\n",
       "          0,    0,    0,    0,    0,    0,    0,    0,    0,    0,    0,\n",
       "          0,    0,    0,    0,    0,    0,    0,    0,    0,    0,    0,\n",
       "          0,    0,    0,    0,    0,    0,    0,    0,    0,    0,    0,\n",
       "          0,    0,    0,    0,    0,    0,    0,    0,    0,    0,    0,\n",
       "          0,    0,    0,    0,    0,    0,    0,    0,    0,    0,    0,\n",
       "          0,    0,    0,    0,    0,    0,    0,    0,    0,    0,    0,\n",
       "          0,    0,    0,    0,    0,    0,    0,    0,    0,    0,    0,\n",
       "          0,    0,    0,    0,    0,    0,    0,    0,    0,    0,    0,\n",
       "          0,    0,    0,    0,    0,    0,    0,    0,    0,    0,    0,\n",
       "          0,    0,    0,    0,    0,    0,    0,    0,    0,    0,    0,\n",
       "          0,    0,    0,    0,    0,    0,    0,    0,    0,    0,    0,\n",
       "          0,    0,    0,    0,    0,    0,    0,    0,    0,    0,    0,\n",
       "          0,    0,    0,    0,    0,    0,    0,    0,    0,    0,    0,\n",
       "          0,    0,    0,    0,    0,    0,    0,    0,    0,    0,    0,\n",
       "          0,    0,    0,    0,    0,    0,    4,   26,  686,  306,  392,\n",
       "        401,  332,    6,  496,   26, 1019,    7,   96,   16,  332,  401,\n",
       "        193,  179,    9,   17,  924,   11, 1185,   16], dtype=int32)"
      ]
     },
     "execution_count": 58,
     "metadata": {},
     "output_type": "execute_result"
    }
   ],
   "source": [
    "X[0]"
   ]
  },
  {
   "cell_type": "code",
   "execution_count": 59,
   "metadata": {},
   "outputs": [
    {
     "name": "stdout",
     "output_type": "stream",
     "text": [
      "(6365, 250) (6365, 5)\n",
      "(2728, 250) (2728, 5)\n"
     ]
    }
   ],
   "source": [
    "#X_train, X_test, Y_train, Y_test = train_test_split(X,Y, test_size = 0.30, random_state = 42)\n",
    "X_train, X_test, Y_train, Y_test = train_test_split(X,Y, test_size = 2728, train_size=6365, random_state = 4)\n",
    "print(X_train.shape,Y_train.shape)\n",
    "print(X_test.shape,Y_test.shape)"
   ]
  },
  {
   "cell_type": "code",
   "execution_count": 60,
   "metadata": {},
   "outputs": [],
   "source": [
    "sm = SMOTE(random_state=12)\n",
    "x_train_res, y_train_res = sm.fit_resample(X_train, Y_train)\n",
    "x_test_res, y_test_res = sm.fit_resample(X_test, Y_test)"
   ]
  },
  {
   "cell_type": "code",
   "execution_count": 61,
   "metadata": {},
   "outputs": [
    {
     "name": "stdout",
     "output_type": "stream",
     "text": [
      "Model: \"sequential\"\n",
      "_________________________________________________________________\n",
      "Layer (type)                 Output Shape              Param #   \n",
      "=================================================================\n",
      "embedding (Embedding)        (None, 250, 100)          5000000   \n",
      "_________________________________________________________________\n",
      "spatial_dropout1d (SpatialDr (None, 250, 100)          0         \n",
      "_________________________________________________________________\n",
      "lstm (LSTM)                  (None, 100)               80400     \n",
      "_________________________________________________________________\n",
      "dense (Dense)                (None, 5)                 505       \n",
      "=================================================================\n",
      "Total params: 5,080,905\n",
      "Trainable params: 5,080,905\n",
      "Non-trainable params: 0\n",
      "_________________________________________________________________\n",
      "None\n"
     ]
    }
   ],
   "source": [
    "model = Sequential()\n",
    "model.add(Embedding(MAX_NB_WORDS, EMBEDDING_DIM, input_length=X.shape[1]))\n",
    "model.add(SpatialDropout1D(0.2))\n",
    "model.add(LSTM(100, dropout=0.2, recurrent_dropout=0.2))\n",
    "model.add(Dense(5, activation='softmax'))\n",
    "model.compile(loss='categorical_crossentropy', optimizer='adam', metrics=['accuracy'])\n",
    "print(model.summary())"
   ]
  },
  {
   "cell_type": "code",
   "execution_count": 63,
   "metadata": {},
   "outputs": [
    {
     "name": "stdout",
     "output_type": "stream",
     "text": [
      "Epoch 1/10\n",
      "90/90 [==============================] - 48s 534ms/step - loss: 0.3450 - accuracy: 0.8710 - val_loss: 1.3117 - val_accuracy: 0.6389\n",
      "Epoch 2/10\n",
      "90/90 [==============================] - 48s 530ms/step - loss: 0.2824 - accuracy: 0.9024 - val_loss: 1.2673 - val_accuracy: 0.5918\n",
      "Epoch 3/10\n",
      "90/90 [==============================] - 48s 528ms/step - loss: 0.2232 - accuracy: 0.9223 - val_loss: 1.4925 - val_accuracy: 0.6248\n",
      "Epoch 4/10\n",
      "90/90 [==============================] - 48s 538ms/step - loss: 0.1782 - accuracy: 0.9392 - val_loss: 1.5893 - val_accuracy: 0.5856\n",
      "Epoch 5/10\n",
      "90/90 [==============================] - 47s 526ms/step - loss: 0.1370 - accuracy: 0.9579 - val_loss: 1.7593 - val_accuracy: 0.5934\n"
     ]
    }
   ],
   "source": [
    "epochs = 5\n",
    "batch_size = 64\n",
    "\n",
    "history = model.fit(X_train, Y_train, epochs=epochs, batch_size=batch_size,validation_split=0.1,callbacks=[EarlyStopping(monitor='val_loss', patience=3, min_delta=0.0001)])"
   ]
  },
  {
   "cell_type": "code",
   "execution_count": 65,
   "metadata": {},
   "outputs": [
    {
     "name": "stdout",
     "output_type": "stream",
     "text": [
      "86/86 [==============================] - 5s 60ms/step - loss: 1.5906 - accuracy: 0.6114\n",
      "Test set\n",
      "  Loss: 1.591\n",
      "  Accuracy: 0.611\n"
     ]
    }
   ],
   "source": [
    "accr = model.evaluate(X_test,Y_test)\n",
    "print('Test set\\n  Loss: {:0.3f}\\n  Accuracy: {:0.3f}'.format(accr[0],accr[1]))"
   ]
  },
  {
   "cell_type": "code",
   "execution_count": 72,
   "metadata": {},
   "outputs": [
    {
     "data": {
      "text/plain": [
       "'\\nfrom imblearn.over_sampling import SMOTE \\nsm = SMOTE(k_neighbors=1, random_state = 2) \\nX_train_res, y_train_res = sm.fit_sample(X, df.labels) \\n'"
      ]
     },
     "execution_count": 72,
     "metadata": {},
     "output_type": "execute_result"
    }
   ],
   "source": [
    "#binomial predictions flow\n",
    "X_bin = Cleanreview_df['lemma_str']\n",
    "y_bin = Cleanreview_df['Rating']\n",
    "\n",
    "\n",
    "from sklearn.feature_extraction.text import TfidfVectorizer\n",
    "vec = TfidfVectorizer()\n",
    "X_bin = vec.fit_transform(X_bin)\n",
    "\n",
    "#X_train, X_test, y_train, y_test = train_test_split(X, y, test_size=0.25, random_state=42)\n",
    "x_train_bin, x_val_bin, y_train_bin, y_val_bin = train_test_split(X_bin, y_bin,train_size=6365,\n",
    "                                                  test_size = 2728,\n",
    "                                                  random_state=12)\n",
    "\n",
    "'''\n",
    "from imblearn.over_sampling import SMOTE \n",
    "sm = SMOTE(k_neighbors=1, random_state = 2) \n",
    "X_train_res, y_train_res = sm.fit_sample(X, df.labels) \n",
    "'''\n",
    "\n",
    "sm = SMOTE(random_state=12)\n",
    "x_train_res, y_train_res = sm.fit_resample(x_train_bin, y_train_bin)"
   ]
  },
  {
   "cell_type": "code",
   "execution_count": 73,
   "metadata": {},
   "outputs": [],
   "source": [
    "x_test_res, y_test_res = sm.fit_resample(x_val_bin, y_val_bin)"
   ]
  },
  {
   "cell_type": "code",
   "execution_count": 74,
   "metadata": {},
   "outputs": [
    {
     "data": {
      "text/plain": [
       "MultinomialNB()"
      ]
     },
     "execution_count": 74,
     "metadata": {},
     "output_type": "execute_result"
    }
   ],
   "source": [
    "#Modelling using Naive Bayes\n",
    "# instantiate learning model alpha = optimal_alpha\n",
    "\n",
    "from sklearn.naive_bayes import MultinomialNB\n",
    "nb_optimal =  MultinomialNB(alpha = 1.0)\n",
    "\n",
    "# fitting the model\n",
    "nb_optimal.fit(x_train_res, y_train_res)\n",
    "\n",
    "# predict the response"
   ]
  },
  {
   "cell_type": "code",
   "execution_count": 75,
   "metadata": {},
   "outputs": [],
   "source": [
    "predictions = nb_optimal.predict(x_test_res)"
   ]
  },
  {
   "cell_type": "code",
   "execution_count": 76,
   "metadata": {},
   "outputs": [
    {
     "name": "stdout",
     "output_type": "stream",
     "text": [
      "0.700755077446604\n"
     ]
    }
   ],
   "source": [
    "score = f1_score(y_test_res, predictions, average = 'weighted')\n",
    "print(score)"
   ]
  },
  {
   "cell_type": "code",
   "execution_count": 77,
   "metadata": {},
   "outputs": [
    {
     "name": "stdout",
     "output_type": "stream",
     "text": [
      "              precision    recall  f1-score   support\n",
      "\n",
      "         bad       0.84      0.52      0.64      2598\n",
      "        good       0.65      0.90      0.76      2598\n",
      "\n",
      "    accuracy                           0.71      5196\n",
      "   macro avg       0.75      0.71      0.70      5196\n",
      "weighted avg       0.75      0.71      0.70      5196\n",
      "\n"
     ]
    }
   ],
   "source": [
    "print(classification_report(y_test_res, predictions))"
   ]
  },
  {
   "cell_type": "code",
   "execution_count": 78,
   "metadata": {},
   "outputs": [],
   "source": [
    "def disp_confusion_matrix_bin(y_pred, model_name, vector = 'CounterVectorizing'):\n",
    "    \"\"\"\n",
    "    Display confusion matrix for selected model with countVectorizer\n",
    "    \"\"\"\n",
    "    cm = confusion_matrix(y_test_res, predictions)\n",
    "    fig = plt.figure(figsize=(10, 10))\n",
    "    plot = plot_confusion_matrix(cm, classes=['Positive','Negative'], normalize=False, \n",
    "                                 title = model_name + \" \" + 'with' + \" \" + vector + \" \"+ '\\nConfusion Matrix')\n",
    "    plt.show()"
   ]
  },
  {
   "cell_type": "code",
   "execution_count": 79,
   "metadata": {},
   "outputs": [
    {
     "data": {
      "image/png": "[encoded data removed]",
      "text/plain": [
       "<Figure size 720x720 with 2 Axes>"
      ]
     },
     "metadata": {
      "needs_background": "light"
     },
     "output_type": "display_data"
    }
   ],
   "source": [
    "disp_confusion_matrix_bin(predictions, \"Naive Bayes\")"
   ]
  },
  {
   "cell_type": "code",
   "execution_count": 80,
   "metadata": {},
   "outputs": [
    {
     "data": {
      "text/plain": [
       "LogisticRegression()"
      ]
     },
     "execution_count": 80,
     "metadata": {},
     "output_type": "execute_result"
    }
   ],
   "source": [
    "#Function call for Logistic Regression using binomial class\n",
    "\n",
    "logisticRegr = LogisticRegression()\n",
    "\n",
    "logisticRegr.fit(x_train_res, y_train_res)\n",
    "\n",
    "predictions = logisticRegr.predict(x_test_res)"
   ]
  },
  {
   "cell_type": "code",
   "execution_count": 81,
   "metadata": {},
   "outputs": [
    {
     "name": "stdout",
     "output_type": "stream",
     "text": [
      "0.6926481909160893\n"
     ]
    }
   ],
   "source": [
    "score = logisticRegr.score(x_test_res, y_test_res)\n",
    "#score = f1_score(y_test_res, predictions, average = 'weighted')\n",
    "print(score)"
   ]
  },
  {
   "cell_type": "code",
   "execution_count": 82,
   "metadata": {},
   "outputs": [
    {
     "name": "stdout",
     "output_type": "stream",
     "text": [
      "              precision    recall  f1-score   support\n",
      "\n",
      "         bad       0.91      0.43      0.58      2598\n",
      "        good       0.63      0.96      0.76      2598\n",
      "\n",
      "    accuracy                           0.69      5196\n",
      "   macro avg       0.77      0.69      0.67      5196\n",
      "weighted avg       0.77      0.69      0.67      5196\n",
      "\n"
     ]
    }
   ],
   "source": [
    "print(classification_report(y_test_res, predictions))"
   ]
  },
  {
   "cell_type": "code",
   "execution_count": 83,
   "metadata": {},
   "outputs": [
    {
     "data": {
      "image/png": "[encoded data removed]",
      "text/plain": [
       "<Figure size 720x720 with 2 Axes>"
      ]
     },
     "metadata": {
      "needs_background": "light"
     },
     "output_type": "display_data"
    }
   ],
   "source": [
    "disp_confusion_matrix_bin(predictions, \"Logistic Regression\")"
   ]
  },
  {
   "cell_type": "code",
   "execution_count": 84,
   "metadata": {},
   "outputs": [
    {
     "data": {
      "text/plain": [
       "\"\\nX = Cleanreview_df['lemma_str']\\ny = Cleanreview_df['Rating']\\n\""
      ]
     },
     "execution_count": 84,
     "metadata": {},
     "output_type": "execute_result"
    },
    {
     "name": "stdout",
     "output_type": "stream",
     "text": [
      "Found 17425 unique tokens.\n"
     ]
    }
   ],
   "source": [
    "# The maximum number of words to be used. (most frequent)\n",
    "\n",
    "'''\n",
    "X = Cleanreview_df['lemma_str']\n",
    "y = Cleanreview_df['Rating']\n",
    "'''\n",
    "MAX_NB_WORDS = 50000\n",
    "# Max number of words in each Review.\n",
    "MAX_SEQUENCE_LENGTH = 250\n",
    "# This is fixed.\n",
    "EMBEDDING_DIM = 100\n",
    "#, lower=True\n",
    "tokenizer = Tokenizer(num_words=MAX_NB_WORDS, filters='!\"#$%&()*+,-./:;<=>?@[\\]^_`{|}~', lower=True\n",
    "                     )\n",
    "tokenizer.fit_on_texts(Cleanreview_df['lemma_str'].values)\n",
    "word_index = tokenizer.word_index\n",
    "print('Found %s unique tokens.' % len(word_index))"
   ]
  },
  {
   "cell_type": "code",
   "execution_count": 85,
   "metadata": {},
   "outputs": [
    {
     "name": "stdout",
     "output_type": "stream",
     "text": [
      "Shape of data tensor: (9093, 250)\n"
     ]
    }
   ],
   "source": [
    "X = tokenizer.texts_to_sequences(Cleanreview_df['lemma_str'].values)\n",
    "X = pad_sequences(X, maxlen=MAX_SEQUENCE_LENGTH)\n",
    "print('Shape of data tensor:', X.shape)"
   ]
  },
  {
   "cell_type": "code",
   "execution_count": 86,
   "metadata": {},
   "outputs": [
    {
     "name": "stdout",
     "output_type": "stream",
     "text": [
      "Shape of label tensor: (9093, 5)\n"
     ]
    }
   ],
   "source": [
    "Y = pd.get_dummies(Cleanreview_df['overall']).values\n",
    "print('Shape of label tensor:', Y.shape)"
   ]
  },
  {
   "cell_type": "code",
   "execution_count": 87,
   "metadata": {},
   "outputs": [
    {
     "data": {
      "text/plain": [
       "array([   0,    0,    0,    0,    0,    0,    0,    0,    0,    0,    0,\n",
       "          0,    0,    0,    0,    0,    0,    0,    0,    0,    0,    0,\n",
       "          0,    0,    0,    0,    0,    0,    0,    0,    0,    0,    0,\n",
       "          0,    0,    0,    0,    0,    0,    0,    0,    0,    0,    0,\n",
       "          0,    0,    0,    0,    0,    0,    0,    0,    0,    0,    0,\n",
       "          0,    0,    0,    0,    0,    0,    0,    0,    0,    0,    0,\n",
       "          0,    0,    0,    0,    0,    0,    0,    0,    0,    0,    0,\n",
       "          0,    0,    0,    0,    0,    0,    0,    0,    0,    0,    0,\n",
       "          0,    0,    0,    0,    0,    0,    0,    0,    0,    0,    0,\n",
       "          0,    0,    0,    0,    0,    0,    0,    0,    0,    0,    0,\n",
       "          0,    0,    0,    0,    0,    0,    0,    0,    0,    0,    0,\n",
       "          0,    0,    0,    0,    0,    0,    0,    0,    0,    0,    0,\n",
       "          0,    0,    0,    0,    0,    0,    0,    0,    0,    0,    0,\n",
       "          0,    0,    0,    0,    0,    0,    0,    0,    0,    0,    0,\n",
       "          0,    0,    0,    0,    0,    0,    0,    0,    0,    0,    0,\n",
       "          0,    0,    0,    0,    0,    0,    0,    0,    0,    0,    0,\n",
       "          0,    0,    0,    0,    0,    0,    0,    0,    0,    0,    0,\n",
       "          0,    0,    0,    0,    0,    0,    0,    0,    0,    0,    0,\n",
       "          0,    0,    0,    0,    0,    0,    0,    0,    0,    0,    0,\n",
       "          0,    0,    0,    0,    0,    0,    0,    0,    0,    0,    0,\n",
       "          0,    0,    0,    0,    0,    0,    4,   26,  686,  306,  392,\n",
       "        401,  332,    6,  496,   26, 1019,    7,   96,   16,  332,  401,\n",
       "        193,  179,    9,   17,  924,   11, 1185,   16], dtype=int32)"
      ]
     },
     "execution_count": 87,
     "metadata": {},
     "output_type": "execute_result"
    }
   ],
   "source": [
    "X[0]"
   ]
  },
  {
   "cell_type": "code",
   "execution_count": 88,
   "metadata": {},
   "outputs": [
    {
     "name": "stdout",
     "output_type": "stream",
     "text": [
      "(6365, 250) (6365, 5)\n",
      "(2728, 250) (2728, 5)\n"
     ]
    }
   ],
   "source": [
    "#X_train, X_test, Y_train, Y_test = train_test_split(X,Y, test_size = 0.30, random_state = 42)\n",
    "X_train, X_test, Y_train, Y_test = train_test_split(X,Y, test_size = 2728, train_size=6365, random_state = 4)\n",
    "print(X_train.shape,Y_train.shape)\n",
    "print(X_test.shape,Y_test.shape)"
   ]
  },
  {
   "cell_type": "code",
   "execution_count": 89,
   "metadata": {},
   "outputs": [],
   "source": [
    "sm = SMOTE(random_state=12)\n",
    "x_train_res, y_train_res = sm.fit_resample(X_train, Y_train)\n",
    "x_test_res, y_test_res = sm.fit_resample(X_test, Y_test)"
   ]
  },
  {
   "cell_type": "code",
   "execution_count": 90,
   "metadata": {},
   "outputs": [
    {
     "name": "stdout",
     "output_type": "stream",
     "text": [
      "Model: \"sequential_1\"\n",
      "_________________________________________________________________\n",
      "Layer (type)                 Output Shape              Param #   \n",
      "=================================================================\n",
      "embedding_1 (Embedding)      (None, 250, 100)          5000000   \n",
      "_________________________________________________________________\n",
      "spatial_dropout1d_1 (Spatial (None, 250, 100)          0         \n",
      "_________________________________________________________________\n",
      "lstm_1 (LSTM)                (None, 100)               80400     \n",
      "_________________________________________________________________\n",
      "dense_1 (Dense)              (None, 5)                 505       \n",
      "=================================================================\n",
      "Total params: 5,080,905\n",
      "Trainable params: 5,080,905\n",
      "Non-trainable params: 0\n",
      "_________________________________________________________________\n",
      "None\n"
     ]
    }
   ],
   "source": [
    "model = Sequential()\n",
    "model.add(Embedding(MAX_NB_WORDS, EMBEDDING_DIM, input_length=X.shape[1]))\n",
    "model.add(SpatialDropout1D(0.2))\n",
    "model.add(LSTM(100, dropout=0.2, recurrent_dropout=0.2))\n",
    "model.add(Dense(5, activation='softmax'))\n",
    "model.compile(loss='categorical_crossentropy', optimizer='adam', metrics=['accuracy'])\n",
    "print(model.summary())"
   ]
  },
  {
   "cell_type": "code",
   "execution_count": 91,
   "metadata": {},
   "outputs": [
    {
     "name": "stdout",
     "output_type": "stream",
     "text": [
      "Epoch 1/5\n",
      "90/90 [==============================] - 51s 538ms/step - loss: 1.1561 - accuracy: 0.6483 - val_loss: 0.9720 - val_accuracy: 0.6641\n",
      "Epoch 2/5\n",
      "90/90 [==============================] - 49s 540ms/step - loss: 0.9036 - accuracy: 0.6801 - val_loss: 0.9309 - val_accuracy: 0.6656\n",
      "Epoch 3/5\n",
      "90/90 [==============================] - 48s 533ms/step - loss: 0.7289 - accuracy: 0.7102 - val_loss: 0.9943 - val_accuracy: 0.6060\n",
      "Epoch 4/5\n",
      "90/90 [==============================] - 48s 531ms/step - loss: 0.5445 - accuracy: 0.7957 - val_loss: 1.0218 - val_accuracy: 0.6060\n",
      "Epoch 5/5\n",
      "90/90 [==============================] - 48s 533ms/step - loss: 0.4204 - accuracy: 0.8537 - val_loss: 1.1688 - val_accuracy: 0.6264\n"
     ]
    }
   ],
   "source": [
    "epochs = 5\n",
    "batch_size = 64\n",
    "\n",
    "history = model.fit(X_train, Y_train, epochs=epochs, batch_size=batch_size,validation_split=0.1,callbacks=[EarlyStopping(monitor='val_loss', patience=3, min_delta=0.0001)])"
   ]
  },
  {
   "cell_type": "code",
   "execution_count": 99,
   "metadata": {},
   "outputs": [],
   "source": [
    "import sklearn"
   ]
  },
  {
   "cell_type": "code",
   "execution_count": 101,
   "metadata": {},
   "outputs": [
    {
     "ename": "ValueError",
     "evalue": "multilabel-indicator is not supported",
     "output_type": "error",
     "traceback": [
      "\u001b[0;31m---------------------------------------------------------------------------\u001b[0m",
      "\u001b[0;31mValueError\u001b[0m                                Traceback (most recent call last)",
      "\u001b[0;32m<ipython-input-101-3f5e5b528b13>\u001b[0m in \u001b[0;36m<module>\u001b[0;34m\u001b[0m\n\u001b[1;32m      1\u001b[0m \u001b[0my_pred\u001b[0m \u001b[0;34m=\u001b[0m \u001b[0mmodel\u001b[0m\u001b[0;34m.\u001b[0m\u001b[0mpredict\u001b[0m\u001b[0;34m(\u001b[0m\u001b[0mX_test\u001b[0m\u001b[0;34m)\u001b[0m\u001b[0;34m\u001b[0m\u001b[0;34m\u001b[0m\u001b[0m\n\u001b[0;32m----> 2\u001b[0;31m \u001b[0mconfusion_matrix\u001b[0m \u001b[0;34m=\u001b[0m \u001b[0msklearn\u001b[0m\u001b[0;34m.\u001b[0m\u001b[0mmetrics\u001b[0m\u001b[0;34m.\u001b[0m\u001b[0mconfusion_matrix\u001b[0m\u001b[0;34m(\u001b[0m\u001b[0mY_test\u001b[0m\u001b[0;34m,\u001b[0m \u001b[0mnp\u001b[0m\u001b[0;34m.\u001b[0m\u001b[0mrint\u001b[0m\u001b[0;34m(\u001b[0m\u001b[0my_pred\u001b[0m\u001b[0;34m)\u001b[0m\u001b[0;34m)\u001b[0m\u001b[0;34m\u001b[0m\u001b[0;34m\u001b[0m\u001b[0m\n\u001b[0m",
      "\u001b[0;32m/opt/conda/lib/python3.7/site-packages/sklearn/utils/validation.py\u001b[0m in \u001b[0;36minner_f\u001b[0;34m(*args, **kwargs)\u001b[0m\n\u001b[1;32m     61\u001b[0m             \u001b[0mextra_args\u001b[0m \u001b[0;34m=\u001b[0m \u001b[0mlen\u001b[0m\u001b[0;34m(\u001b[0m\u001b[0margs\u001b[0m\u001b[0;34m)\u001b[0m \u001b[0;34m-\u001b[0m \u001b[0mlen\u001b[0m\u001b[0;34m(\u001b[0m\u001b[0mall_args\u001b[0m\u001b[0;34m)\u001b[0m\u001b[0;34m\u001b[0m\u001b[0;34m\u001b[0m\u001b[0m\n\u001b[1;32m     62\u001b[0m             \u001b[0;32mif\u001b[0m \u001b[0mextra_args\u001b[0m \u001b[0;34m<=\u001b[0m \u001b[0;36m0\u001b[0m\u001b[0;34m:\u001b[0m\u001b[0;34m\u001b[0m\u001b[0;34m\u001b[0m\u001b[0m\n\u001b[0;32m---> 63\u001b[0;31m                 \u001b[0;32mreturn\u001b[0m \u001b[0mf\u001b[0m\u001b[0;34m(\u001b[0m\u001b[0;34m*\u001b[0m\u001b[0margs\u001b[0m\u001b[0;34m,\u001b[0m \u001b[0;34m**\u001b[0m\u001b[0mkwargs\u001b[0m\u001b[0;34m)\u001b[0m\u001b[0;34m\u001b[0m\u001b[0;34m\u001b[0m\u001b[0m\n\u001b[0m\u001b[1;32m     64\u001b[0m \u001b[0;34m\u001b[0m\u001b[0m\n\u001b[1;32m     65\u001b[0m             \u001b[0;31m# extra_args > 0\u001b[0m\u001b[0;34m\u001b[0m\u001b[0;34m\u001b[0m\u001b[0;34m\u001b[0m\u001b[0m\n",
      "\u001b[0;32m/opt/conda/lib/python3.7/site-packages/sklearn/metrics/_classification.py\u001b[0m in \u001b[0;36mconfusion_matrix\u001b[0;34m(y_true, y_pred, labels, sample_weight, normalize)\u001b[0m\n\u001b[1;32m    296\u001b[0m     \u001b[0my_type\u001b[0m\u001b[0;34m,\u001b[0m \u001b[0my_true\u001b[0m\u001b[0;34m,\u001b[0m \u001b[0my_pred\u001b[0m \u001b[0;34m=\u001b[0m \u001b[0m_check_targets\u001b[0m\u001b[0;34m(\u001b[0m\u001b[0my_true\u001b[0m\u001b[0;34m,\u001b[0m \u001b[0my_pred\u001b[0m\u001b[0;34m)\u001b[0m\u001b[0;34m\u001b[0m\u001b[0;34m\u001b[0m\u001b[0m\n\u001b[1;32m    297\u001b[0m     \u001b[0;32mif\u001b[0m \u001b[0my_type\u001b[0m \u001b[0;32mnot\u001b[0m \u001b[0;32min\u001b[0m \u001b[0;34m(\u001b[0m\u001b[0;34m\"binary\"\u001b[0m\u001b[0;34m,\u001b[0m \u001b[0;34m\"multiclass\"\u001b[0m\u001b[0;34m)\u001b[0m\u001b[0;34m:\u001b[0m\u001b[0;34m\u001b[0m\u001b[0;34m\u001b[0m\u001b[0m\n\u001b[0;32m--> 298\u001b[0;31m         \u001b[0;32mraise\u001b[0m \u001b[0mValueError\u001b[0m\u001b[0;34m(\u001b[0m\u001b[0;34m\"%s is not supported\"\u001b[0m \u001b[0;34m%\u001b[0m \u001b[0my_type\u001b[0m\u001b[0;34m)\u001b[0m\u001b[0;34m\u001b[0m\u001b[0;34m\u001b[0m\u001b[0m\n\u001b[0m\u001b[1;32m    299\u001b[0m \u001b[0;34m\u001b[0m\u001b[0m\n\u001b[1;32m    300\u001b[0m     \u001b[0;32mif\u001b[0m \u001b[0mlabels\u001b[0m \u001b[0;32mis\u001b[0m \u001b[0;32mNone\u001b[0m\u001b[0;34m:\u001b[0m\u001b[0;34m\u001b[0m\u001b[0;34m\u001b[0m\u001b[0m\n",
      "\u001b[0;31mValueError\u001b[0m: multilabel-indicator is not supported"
     ]
    }
   ],
   "source": [
    "y_pred = model.predict(X_test)\n",
    "confusion_matrix = sklearn.metrics.confusion_matrix(Y_test, np.rint(y_pred))"
   ]
  },
  {
   "cell_type": "code",
   "execution_count": 94,
   "metadata": {},
   "outputs": [
    {
     "data": {
      "text/plain": [
       "array([[1.8094972e-02, 3.6849532e-02, 1.9400084e-01, 5.8528900e-01,\n",
       "        1.6576573e-01],\n",
       "       [2.7324564e-05, 2.4970195e-05, 1.0247802e-04, 2.1044568e-03,\n",
       "        9.9774075e-01],\n",
       "       [1.8705688e-03, 5.6275888e-03, 3.5924785e-02, 7.2775733e-01,\n",
       "        2.2881970e-01],\n",
       "       ...,\n",
       "       [1.9662458e-04, 2.6214123e-04, 9.8959845e-04, 3.1739365e-02,\n",
       "        9.6681231e-01],\n",
       "       [1.2661087e-04, 1.3853372e-04, 5.0973333e-04, 8.0929911e-03,\n",
       "        9.9113208e-01],\n",
       "       [2.4314155e-04, 4.5324216e-04, 1.9351698e-03, 4.5139667e-02,\n",
       "        9.5222878e-01]], dtype=float32)"
      ]
     },
     "execution_count": 94,
     "metadata": {},
     "output_type": "execute_result"
    }
   ],
   "source": [
    "predictions = model.predict(X_test)\n",
    "predictions"
   ]
  },
  {
   "cell_type": "code",
   "execution_count": 95,
   "metadata": {},
   "outputs": [],
   "source": [
    "y_pred = (predictions > 0.5)"
   ]
  },
  {
   "cell_type": "code",
   "execution_count": 1,
   "metadata": {},
   "outputs": [
    {
     "ename": "NameError",
     "evalue": "name 'y_test' is not defined",
     "output_type": "error",
     "traceback": [
      "\u001b[0;31m---------------------------------------------------------------------------\u001b[0m",
      "\u001b[0;31mNameError\u001b[0m                                 Traceback (most recent call last)",
      "\u001b[0;32m<ipython-input-1-8f8d074e6e93>\u001b[0m in \u001b[0;36m<module>\u001b[0;34m\u001b[0m\n\u001b[1;32m      1\u001b[0m \u001b[0;32mfrom\u001b[0m \u001b[0msklearn\u001b[0m \u001b[0;32mimport\u001b[0m \u001b[0mmetrics\u001b[0m\u001b[0;34m\u001b[0m\u001b[0;34m\u001b[0m\u001b[0m\n\u001b[0;32m----> 2\u001b[0;31m \u001b[0mcnf_matrix\u001b[0m \u001b[0;34m=\u001b[0m \u001b[0mmetrics\u001b[0m\u001b[0;34m.\u001b[0m\u001b[0mconfusion_matrix\u001b[0m\u001b[0;34m(\u001b[0m\u001b[0my_test\u001b[0m\u001b[0;34m,\u001b[0m \u001b[0my_pred\u001b[0m\u001b[0;34m)\u001b[0m\u001b[0;34m\u001b[0m\u001b[0;34m\u001b[0m\u001b[0m\n\u001b[0m\u001b[1;32m      3\u001b[0m \u001b[0mcnf_matrix\u001b[0m\u001b[0;34m\u001b[0m\u001b[0;34m\u001b[0m\u001b[0m\n",
      "\u001b[0;31mNameError\u001b[0m: name 'y_test' is not defined"
     ]
    }
   ],
   "source": [
    "from sklearn import metrics\n",
    "cnf_matrix = metrics.confusion_matrix(y_test, y_pred)\n",
    "cnf_matrix"
   ]
  },
  {
   "cell_type": "code",
   "execution_count": null,
   "metadata": {},
   "outputs": [],
   "source": [
    "\n",
    "comparison_table(y_preds = [y_pred_tfidf_logreg, y_pred_tfidf_rf, y_pred_tfidf_nb, y_pred_tfidf_xgb, y_pred_tfidf_catboost], \n",
    "                labels = ['LogReg', 'Random Forest', 'Naive Bayes', 'XGBoost', 'CatBoost'])"
   ]
  }
 ],
 "metadata": {
  "kernelspec": {
   "display_name": "Python 3",
   "language": "python",
   "name": "python3"
  },
  "language_info": {
   "codemirror_mode": {
    "name": "ipython",
    "version": 3
   },
   "file_extension": ".py",
   "mimetype": "text/x-python",
   "name": "python",
   "nbconvert_exporter": "python",
   "pygments_lexer": "ipython3",
   "version": "3.7.6"
  }
 },
 "nbformat": 4,
 "nbformat_minor": 4
}
